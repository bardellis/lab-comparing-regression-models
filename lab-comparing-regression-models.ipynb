{
 "cells": [
  {
   "cell_type": "markdown",
   "id": "8b7c2316",
   "metadata": {},
   "source": [
    "# Lab | Cleaning numerical data"
   ]
  },
  {
   "cell_type": "markdown",
   "id": "37c0bf96",
   "metadata": {},
   "source": [
    "## Context:\n",
    "An auto insurance company has collected some data about its customers including their demographics, education, employment, policy details, vehicle information on which insurance policy is, and claim amounts. You will help the senior management with some business questions that will help them to better understand their customers, improve their services, and improve profitability."
   ]
  },
  {
   "cell_type": "markdown",
   "id": "f86dfd49",
   "metadata": {},
   "source": [
    "## Some business Objectives:\n",
    "* Retain customers,\n",
    "* Analyze relevant customer data,\n",
    "* Develop focused customer retention programs.\n",
    "* Based on the analysis, take targeted actions to increase profitable customer response, retention, and growth."
   ]
  },
  {
   "cell_type": "markdown",
   "id": "3d5840c1",
   "metadata": {},
   "source": [
    "## Data Analysis Process\n",
    "* Case Study\n",
    "* Get data\n",
    "* Cleaning/Wrangling/EDA\n",
    "* Processing Data\n",
    "* Modeling -Validation\n",
    "* Reporting"
   ]
  },
  {
   "cell_type": "markdown",
   "id": "30eaa8c3",
   "metadata": {},
   "source": [
    "## Lab | 1 | Import libraries\n",
    "Import the necessary libraries"
   ]
  },
  {
   "cell_type": "code",
   "execution_count": 1,
   "id": "9456d0ea",
   "metadata": {},
   "outputs": [],
   "source": [
    "import pandas as pd\n",
    "import seaborn as sns\n",
    "import matplotlib.pyplot as plt\n",
    "import numpy as np"
   ]
  },
  {
   "cell_type": "markdown",
   "id": "c816c1e7",
   "metadata": {},
   "source": [
    "## Lab | 2 | Get data"
   ]
  },
  {
   "cell_type": "code",
   "execution_count": 2,
   "id": "c8d8c703",
   "metadata": {},
   "outputs": [],
   "source": [
    "# Load the we_fn_use_c_marketing_customer_value_analysis.csv into the variable customer_df\n",
    "data = pd.read_csv('we_fn_use_c_marketing_customer_value_analysis.csv')"
   ]
  },
  {
   "cell_type": "markdown",
   "id": "c1c47a22",
   "metadata": {},
   "source": [
    "## Lab | 3 | Explore data"
   ]
  },
  {
   "cell_type": "code",
   "execution_count": 3,
   "id": "f3c4b912",
   "metadata": {},
   "outputs": [
    {
     "data": {
      "text/html": [
       "<div>\n",
       "<style scoped>\n",
       "    .dataframe tbody tr th:only-of-type {\n",
       "        vertical-align: middle;\n",
       "    }\n",
       "\n",
       "    .dataframe tbody tr th {\n",
       "        vertical-align: top;\n",
       "    }\n",
       "\n",
       "    .dataframe thead th {\n",
       "        text-align: right;\n",
       "    }\n",
       "</style>\n",
       "<table border=\"1\" class=\"dataframe\">\n",
       "  <thead>\n",
       "    <tr style=\"text-align: right;\">\n",
       "      <th></th>\n",
       "      <th>Customer</th>\n",
       "      <th>State</th>\n",
       "      <th>Customer Lifetime Value</th>\n",
       "      <th>Response</th>\n",
       "      <th>Coverage</th>\n",
       "      <th>Education</th>\n",
       "      <th>Effective To Date</th>\n",
       "      <th>EmploymentStatus</th>\n",
       "      <th>Gender</th>\n",
       "      <th>Income</th>\n",
       "      <th>...</th>\n",
       "      <th>Months Since Policy Inception</th>\n",
       "      <th>Number of Open Complaints</th>\n",
       "      <th>Number of Policies</th>\n",
       "      <th>Policy Type</th>\n",
       "      <th>Policy</th>\n",
       "      <th>Renew Offer Type</th>\n",
       "      <th>Sales Channel</th>\n",
       "      <th>Total Claim Amount</th>\n",
       "      <th>Vehicle Class</th>\n",
       "      <th>Vehicle Size</th>\n",
       "    </tr>\n",
       "  </thead>\n",
       "  <tbody>\n",
       "    <tr>\n",
       "      <th>0</th>\n",
       "      <td>BU79786</td>\n",
       "      <td>Washington</td>\n",
       "      <td>2763.519279</td>\n",
       "      <td>No</td>\n",
       "      <td>Basic</td>\n",
       "      <td>Bachelor</td>\n",
       "      <td>2/24/11</td>\n",
       "      <td>Employed</td>\n",
       "      <td>F</td>\n",
       "      <td>56274</td>\n",
       "      <td>...</td>\n",
       "      <td>5</td>\n",
       "      <td>0</td>\n",
       "      <td>1</td>\n",
       "      <td>Corporate Auto</td>\n",
       "      <td>Corporate L3</td>\n",
       "      <td>Offer1</td>\n",
       "      <td>Agent</td>\n",
       "      <td>384.811147</td>\n",
       "      <td>Two-Door Car</td>\n",
       "      <td>Medsize</td>\n",
       "    </tr>\n",
       "    <tr>\n",
       "      <th>1</th>\n",
       "      <td>QZ44356</td>\n",
       "      <td>Arizona</td>\n",
       "      <td>6979.535903</td>\n",
       "      <td>No</td>\n",
       "      <td>Extended</td>\n",
       "      <td>Bachelor</td>\n",
       "      <td>1/31/11</td>\n",
       "      <td>Unemployed</td>\n",
       "      <td>F</td>\n",
       "      <td>0</td>\n",
       "      <td>...</td>\n",
       "      <td>42</td>\n",
       "      <td>0</td>\n",
       "      <td>8</td>\n",
       "      <td>Personal Auto</td>\n",
       "      <td>Personal L3</td>\n",
       "      <td>Offer3</td>\n",
       "      <td>Agent</td>\n",
       "      <td>1131.464935</td>\n",
       "      <td>Four-Door Car</td>\n",
       "      <td>Medsize</td>\n",
       "    </tr>\n",
       "    <tr>\n",
       "      <th>2</th>\n",
       "      <td>AI49188</td>\n",
       "      <td>Nevada</td>\n",
       "      <td>12887.431650</td>\n",
       "      <td>No</td>\n",
       "      <td>Premium</td>\n",
       "      <td>Bachelor</td>\n",
       "      <td>2/19/11</td>\n",
       "      <td>Employed</td>\n",
       "      <td>F</td>\n",
       "      <td>48767</td>\n",
       "      <td>...</td>\n",
       "      <td>38</td>\n",
       "      <td>0</td>\n",
       "      <td>2</td>\n",
       "      <td>Personal Auto</td>\n",
       "      <td>Personal L3</td>\n",
       "      <td>Offer1</td>\n",
       "      <td>Agent</td>\n",
       "      <td>566.472247</td>\n",
       "      <td>Two-Door Car</td>\n",
       "      <td>Medsize</td>\n",
       "    </tr>\n",
       "    <tr>\n",
       "      <th>3</th>\n",
       "      <td>WW63253</td>\n",
       "      <td>California</td>\n",
       "      <td>7645.861827</td>\n",
       "      <td>No</td>\n",
       "      <td>Basic</td>\n",
       "      <td>Bachelor</td>\n",
       "      <td>1/20/11</td>\n",
       "      <td>Unemployed</td>\n",
       "      <td>M</td>\n",
       "      <td>0</td>\n",
       "      <td>...</td>\n",
       "      <td>65</td>\n",
       "      <td>0</td>\n",
       "      <td>7</td>\n",
       "      <td>Corporate Auto</td>\n",
       "      <td>Corporate L2</td>\n",
       "      <td>Offer1</td>\n",
       "      <td>Call Center</td>\n",
       "      <td>529.881344</td>\n",
       "      <td>SUV</td>\n",
       "      <td>Medsize</td>\n",
       "    </tr>\n",
       "    <tr>\n",
       "      <th>4</th>\n",
       "      <td>HB64268</td>\n",
       "      <td>Washington</td>\n",
       "      <td>2813.692575</td>\n",
       "      <td>No</td>\n",
       "      <td>Basic</td>\n",
       "      <td>Bachelor</td>\n",
       "      <td>2/3/11</td>\n",
       "      <td>Employed</td>\n",
       "      <td>M</td>\n",
       "      <td>43836</td>\n",
       "      <td>...</td>\n",
       "      <td>44</td>\n",
       "      <td>0</td>\n",
       "      <td>1</td>\n",
       "      <td>Personal Auto</td>\n",
       "      <td>Personal L1</td>\n",
       "      <td>Offer1</td>\n",
       "      <td>Agent</td>\n",
       "      <td>138.130879</td>\n",
       "      <td>Four-Door Car</td>\n",
       "      <td>Medsize</td>\n",
       "    </tr>\n",
       "  </tbody>\n",
       "</table>\n",
       "<p>5 rows × 24 columns</p>\n",
       "</div>"
      ],
      "text/plain": [
       "  Customer       State  Customer Lifetime Value Response  Coverage Education  \\\n",
       "0  BU79786  Washington              2763.519279       No     Basic  Bachelor   \n",
       "1  QZ44356     Arizona              6979.535903       No  Extended  Bachelor   \n",
       "2  AI49188      Nevada             12887.431650       No   Premium  Bachelor   \n",
       "3  WW63253  California              7645.861827       No     Basic  Bachelor   \n",
       "4  HB64268  Washington              2813.692575       No     Basic  Bachelor   \n",
       "\n",
       "  Effective To Date EmploymentStatus Gender  Income  ...  \\\n",
       "0           2/24/11         Employed      F   56274  ...   \n",
       "1           1/31/11       Unemployed      F       0  ...   \n",
       "2           2/19/11         Employed      F   48767  ...   \n",
       "3           1/20/11       Unemployed      M       0  ...   \n",
       "4            2/3/11         Employed      M   43836  ...   \n",
       "\n",
       "  Months Since Policy Inception Number of Open Complaints  Number of Policies  \\\n",
       "0                             5                         0                   1   \n",
       "1                            42                         0                   8   \n",
       "2                            38                         0                   2   \n",
       "3                            65                         0                   7   \n",
       "4                            44                         0                   1   \n",
       "\n",
       "      Policy Type        Policy  Renew Offer Type  Sales Channel  \\\n",
       "0  Corporate Auto  Corporate L3            Offer1          Agent   \n",
       "1   Personal Auto   Personal L3            Offer3          Agent   \n",
       "2   Personal Auto   Personal L3            Offer1          Agent   \n",
       "3  Corporate Auto  Corporate L2            Offer1    Call Center   \n",
       "4   Personal Auto   Personal L1            Offer1          Agent   \n",
       "\n",
       "  Total Claim Amount  Vehicle Class Vehicle Size  \n",
       "0         384.811147   Two-Door Car      Medsize  \n",
       "1        1131.464935  Four-Door Car      Medsize  \n",
       "2         566.472247   Two-Door Car      Medsize  \n",
       "3         529.881344            SUV      Medsize  \n",
       "4         138.130879  Four-Door Car      Medsize  \n",
       "\n",
       "[5 rows x 24 columns]"
      ]
     },
     "execution_count": 3,
     "metadata": {},
     "output_type": "execute_result"
    }
   ],
   "source": [
    "# First look at its main features (head, shape, info). NOTE The target column is total_claim_amount\n",
    "data.head()"
   ]
  },
  {
   "cell_type": "code",
   "execution_count": 4,
   "id": "29007a14",
   "metadata": {},
   "outputs": [
    {
     "data": {
      "text/plain": [
       "(9134, 24)"
      ]
     },
     "execution_count": 4,
     "metadata": {},
     "output_type": "execute_result"
    }
   ],
   "source": [
    "data.shape"
   ]
  },
  {
   "cell_type": "code",
   "execution_count": 5,
   "id": "3a3b7aa0",
   "metadata": {},
   "outputs": [
    {
     "data": {
      "text/plain": [
       "Index(['Customer', 'State', 'Customer Lifetime Value', 'Response', 'Coverage',\n",
       "       'Education', 'Effective To Date', 'EmploymentStatus', 'Gender',\n",
       "       'Income', 'Location Code', 'Marital Status', 'Monthly Premium Auto',\n",
       "       'Months Since Last Claim', 'Months Since Policy Inception',\n",
       "       'Number of Open Complaints', 'Number of Policies', 'Policy Type',\n",
       "       'Policy', 'Renew Offer Type', 'Sales Channel', 'Total Claim Amount',\n",
       "       'Vehicle Class', 'Vehicle Size'],\n",
       "      dtype='object')"
      ]
     },
     "execution_count": 5,
     "metadata": {},
     "output_type": "execute_result"
    }
   ],
   "source": [
    "data.columns"
   ]
  },
  {
   "cell_type": "code",
   "execution_count": 6,
   "id": "6c052718",
   "metadata": {},
   "outputs": [
    {
     "data": {
      "text/plain": [
       "Customer                          object\n",
       "State                             object\n",
       "Customer Lifetime Value          float64\n",
       "Response                          object\n",
       "Coverage                          object\n",
       "Education                         object\n",
       "Effective To Date                 object\n",
       "EmploymentStatus                  object\n",
       "Gender                            object\n",
       "Income                             int64\n",
       "Location Code                     object\n",
       "Marital Status                    object\n",
       "Monthly Premium Auto               int64\n",
       "Months Since Last Claim            int64\n",
       "Months Since Policy Inception      int64\n",
       "Number of Open Complaints          int64\n",
       "Number of Policies                 int64\n",
       "Policy Type                       object\n",
       "Policy                            object\n",
       "Renew Offer Type                  object\n",
       "Sales Channel                     object\n",
       "Total Claim Amount               float64\n",
       "Vehicle Class                     object\n",
       "Vehicle Size                      object\n",
       "dtype: object"
      ]
     },
     "execution_count": 6,
     "metadata": {},
     "output_type": "execute_result"
    }
   ],
   "source": [
    "data.dtypes"
   ]
  },
  {
   "cell_type": "markdown",
   "id": "08f6c37b",
   "metadata": {},
   "source": [
    "## Lab | 4 | Chage columns names"
   ]
  },
  {
   "cell_type": "code",
   "execution_count": 7,
   "id": "d005f3f8",
   "metadata": {},
   "outputs": [
    {
     "data": {
      "text/plain": [
       "Index(['Customer', 'State', 'Customer_Lifetime_Value', 'Response', 'Coverage',\n",
       "       'Education', 'Effective_To_Date', 'EmploymentStatus', 'Gender',\n",
       "       'Income', 'Location_Code', 'Marital_Status', 'Monthly_Premium_Auto',\n",
       "       'Months_Since_Last_Claim', 'Months_Since_Policy_Inception',\n",
       "       'Number_of_Open_Complaints', 'Number_of_Policies', 'Policy_Type',\n",
       "       'Policy', 'Renew_Offer_Type', 'Sales_Channel', 'Total_Claim_Amount',\n",
       "       'Vehicle_Class', 'Vehicle_Size'],\n",
       "      dtype='object')"
      ]
     },
     "execution_count": 7,
     "metadata": {},
     "output_type": "execute_result"
    }
   ],
   "source": [
    "# Rename the columns so they follow the PE8 (snake case) (lower_case_with_underscores)\n",
    "data.columns = [col.replace(' ', '_') for col in data.columns]\n",
    "data.columns"
   ]
  },
  {
   "cell_type": "markdown",
   "id": "d50f2c90",
   "metadata": {},
   "source": [
    "## Lab | 5 | Change 'effective to date' format"
   ]
  },
  {
   "cell_type": "code",
   "execution_count": 8,
   "id": "2fa7b34b",
   "metadata": {},
   "outputs": [
    {
     "data": {
      "text/plain": [
       "0    2/24/11\n",
       "1    1/31/11\n",
       "2    2/19/11\n",
       "3    1/20/11\n",
       "4     2/3/11\n",
       "Name: Effective_To_Date, dtype: object"
      ]
     },
     "metadata": {},
     "output_type": "display_data"
    },
    {
     "data": {
      "text/plain": [
       "dtype('O')"
      ]
     },
     "metadata": {},
     "output_type": "display_data"
    }
   ],
   "source": [
    "# Change effective to date column to datetime format.\n",
    "display(data['Effective_To_Date'].head(),\n",
    "        data['Effective_To_Date'].dtype)"
   ]
  },
  {
   "cell_type": "code",
   "execution_count": 9,
   "id": "a7bb58fb",
   "metadata": {},
   "outputs": [
    {
     "data": {
      "text/plain": [
       "0   2011-02-24\n",
       "1   2011-01-31\n",
       "2   2011-02-19\n",
       "3   2011-01-20\n",
       "4   2011-02-03\n",
       "Name: Effective_To_Date, dtype: datetime64[ns]"
      ]
     },
     "metadata": {},
     "output_type": "display_data"
    },
    {
     "data": {
      "text/plain": [
       "dtype('<M8[ns]')"
      ]
     },
     "metadata": {},
     "output_type": "display_data"
    }
   ],
   "source": [
    "data['Effective_To_Date']=pd.to_datetime(data['Effective_To_Date'])\n",
    "display(data['Effective_To_Date'].head(),\n",
    "        data['Effective_To_Date'].dtype)"
   ]
  },
  {
   "cell_type": "markdown",
   "id": "534b9b99",
   "metadata": {},
   "source": [
    "## Lab | 6 | Create numerical_df"
   ]
  },
  {
   "cell_type": "code",
   "execution_count": 10,
   "id": "5ceba2ff",
   "metadata": {},
   "outputs": [
    {
     "data": {
      "text/plain": [
       "Index(['Customer_Lifetime_Value', 'Income', 'Monthly_Premium_Auto',\n",
       "       'Months_Since_Last_Claim', 'Months_Since_Policy_Inception',\n",
       "       'Number_of_Open_Complaints', 'Number_of_Policies',\n",
       "       'Total_Claim_Amount'],\n",
       "      dtype='object')"
      ]
     },
     "execution_count": 10,
     "metadata": {},
     "output_type": "execute_result"
    }
   ],
   "source": [
    "# Create a NEW dataframe using only the numerical data called numerical_df. Use this for the following questions.\n",
    "numerical_df=data.select_dtypes('number')\n",
    "numerical_df.columns"
   ]
  },
  {
   "cell_type": "markdown",
   "id": "cc725fce",
   "metadata": {},
   "source": [
    "## Lab | 7 | Differentiate Continuos-Discrete variables"
   ]
  },
  {
   "cell_type": "code",
   "execution_count": 11,
   "id": "98b17951",
   "metadata": {},
   "outputs": [],
   "source": [
    "# Define a function that differentiates between continuous and discrete variables. \n",
    "# Hint: The number of unique values might be useful. \n",
    "# Store continuous data into a continuous_df variable and do the same for discrete_df\n",
    "\n",
    "def categorize_variables(dataframe, threshold=0.03):\n",
    "    continuous_columns = []\n",
    "    discrete_columns = []\n",
    "\n",
    "    for column in dataframe.columns:\n",
    "        unique_count = len(dataframe[column].unique())\n",
    "        if unique_count / dataframe.shape[0] < threshold:\n",
    "            discrete_columns.append(column)\n",
    "        else:\n",
    "            continuous_columns.append(column)\n",
    "\n",
    "    continuous_df = dataframe[continuous_columns]\n",
    "    discrete_df = dataframe[discrete_columns]\n",
    "    \n",
    "    return continuous_df, discrete_df"
   ]
  },
  {
   "cell_type": "code",
   "execution_count": 12,
   "id": "ef40ae8a",
   "metadata": {},
   "outputs": [],
   "source": [
    "continuous_df, discrete_df = categorize_variables(numerical_df)"
   ]
  },
  {
   "cell_type": "code",
   "execution_count": 13,
   "id": "85c02d9d",
   "metadata": {},
   "outputs": [
    {
     "name": "stdout",
     "output_type": "stream",
     "text": [
      "Continuous Columns:\n",
      "Index(['Customer_Lifetime_Value', 'Income', 'Total_Claim_Amount'], dtype='object')\n"
     ]
    }
   ],
   "source": [
    "print(\"Continuous Columns:\")\n",
    "print(continuous_df.columns)"
   ]
  },
  {
   "cell_type": "code",
   "execution_count": 14,
   "id": "c6913e26",
   "metadata": {},
   "outputs": [
    {
     "name": "stdout",
     "output_type": "stream",
     "text": [
      "Customer_Lifetime_Value  8041\n",
      "Income  5694\n",
      "Total_Claim_Amount  5106\n"
     ]
    }
   ],
   "source": [
    "print('Customer_Lifetime_Value ',len(numerical_df['Customer_Lifetime_Value'].value_counts()))\n",
    "print('Income ',len(numerical_df['Income'].value_counts()))\n",
    "print('Total_Claim_Amount ',len(numerical_df['Total_Claim_Amount'].value_counts()))"
   ]
  },
  {
   "cell_type": "code",
   "execution_count": 15,
   "id": "59fa0572",
   "metadata": {},
   "outputs": [
    {
     "name": "stdout",
     "output_type": "stream",
     "text": [
      "Discrete Columns:\n",
      "Index(['Monthly_Premium_Auto', 'Months_Since_Last_Claim',\n",
      "       'Months_Since_Policy_Inception', 'Number_of_Open_Complaints',\n",
      "       'Number_of_Policies'],\n",
      "      dtype='object')\n"
     ]
    }
   ],
   "source": [
    "print(\"Discrete Columns:\")\n",
    "print(discrete_df.columns)"
   ]
  },
  {
   "cell_type": "code",
   "execution_count": 16,
   "id": "5fb99e47",
   "metadata": {},
   "outputs": [
    {
     "name": "stdout",
     "output_type": "stream",
     "text": [
      "Monthly_Premium_Auto  202\n",
      "Months_Since_Last_Claim  36\n",
      "Months_Since_Policy_Inception  100\n",
      "Number_of_Open_Complaints  6\n",
      "Number_of_Policies  9\n"
     ]
    }
   ],
   "source": [
    "print('Monthly_Premium_Auto ',len(numerical_df['Monthly_Premium_Auto'].value_counts()))\n",
    "print('Months_Since_Last_Claim ',len(numerical_df['Months_Since_Last_Claim'].value_counts()))\n",
    "print('Months_Since_Policy_Inception ',len(numerical_df['Months_Since_Policy_Inception'].value_counts()))\n",
    "print('Number_of_Open_Complaints ',len(numerical_df['Number_of_Open_Complaints'].value_counts()))\n",
    "print('Number_of_Policies ',len(numerical_df['Number_of_Policies'].value_counts()))"
   ]
  },
  {
   "cell_type": "markdown",
   "id": "817a5837",
   "metadata": {},
   "source": [
    "## Lab | 8 | Correlation matrix"
   ]
  },
  {
   "cell_type": "code",
   "execution_count": 17,
   "id": "14cf77d3",
   "metadata": {},
   "outputs": [
    {
     "data": {
      "image/png": "[encoded data removed]",
      "text/plain": [
       "<Figure size 864x576 with 2 Axes>"
      ]
     },
     "metadata": {
      "needs_background": "light"
     },
     "output_type": "display_data"
    }
   ],
   "source": [
    "# Plot a correlation matrix, comment what you see.\n",
    "corr_matrix=numerical_df.corr()  # default\n",
    "fig, ax = plt.subplots(figsize=(12, 8))\n",
    "ax = sns.heatmap(corr_matrix, annot=True)\n",
    "plt.show()"
   ]
  },
  {
   "cell_type": "code",
   "execution_count": 18,
   "id": "55f6b8db",
   "metadata": {},
   "outputs": [],
   "source": [
    "# +Corr between Total Claim Amount and Customer lifetime value and monthly premium auto, and -Corr with income"
   ]
  },
  {
   "cell_type": "markdown",
   "id": "071fa591",
   "metadata": {},
   "source": [
    "## Lab | 9 | Plot discrete variables"
   ]
  },
  {
   "cell_type": "code",
   "execution_count": 19,
   "id": "4822ffd8",
   "metadata": {},
   "outputs": [
    {
     "data": {
      "image/png": "[encoded data removed]",
      "text/plain": [
       "<Figure size 576x288 with 1 Axes>"
      ]
     },
     "metadata": {
      "needs_background": "light"
     },
     "output_type": "display_data"
    },
    {
     "data": {
      "image/png": "[encoded data removed]",
      "text/plain": [
       "<Figure size 576x288 with 1 Axes>"
      ]
     },
     "metadata": {
      "needs_background": "light"
     },
     "output_type": "display_data"
    },
    {
     "data": {
      "image/png": "[encoded data removed]",
      "text/plain": [
       "<Figure size 576x288 with 1 Axes>"
      ]
     },
     "metadata": {
      "needs_background": "light"
     },
     "output_type": "display_data"
    },
    {
     "data": {
      "image/png": "[encoded data removed]",
      "text/plain": [
       "<Figure size 576x288 with 1 Axes>"
      ]
     },
     "metadata": {
      "needs_background": "light"
     },
     "output_type": "display_data"
    },
    {
     "data": {
      "image/png": "[encoded data removed]",
      "text/plain": [
       "<Figure size 576x288 with 1 Axes>"
      ]
     },
     "metadata": {
      "needs_background": "light"
     },
     "output_type": "display_data"
    }
   ],
   "source": [
    "# Create a function to plot every discrete variable. \n",
    "# Do the same with the continuous variables \n",
    "# (Be Careful, you may need to change the plot type to one better suited for continuous data!)\n",
    "\n",
    "import matplotlib.pyplot as plt\n",
    "\n",
    "def plot_all_columns(dataframe):\n",
    "    for column in dataframe.columns:\n",
    "        plt.figure(figsize=(8, 4))\n",
    "        plt.hist(dataframe[column], bins=20)  # You can adjust the number of bins as needed\n",
    "        plt.title(f'Histogram of {column}')\n",
    "        plt.xlabel(column)\n",
    "        plt.ylabel('Frequency')\n",
    "        plt.show()\n",
    "\n",
    "plot_all_columns(discrete_df)"
   ]
  },
  {
   "cell_type": "markdown",
   "id": "c3123622",
   "metadata": {},
   "source": [
    "## Lab | 9 | Plot continuous variables"
   ]
  },
  {
   "cell_type": "code",
   "execution_count": 20,
   "id": "16e82c5c",
   "metadata": {},
   "outputs": [
    {
     "data": {
      "image/png": "[encoded data removed]",
      "text/plain": [
       "<Figure size 576x288 with 1 Axes>"
      ]
     },
     "metadata": {
      "needs_background": "light"
     },
     "output_type": "display_data"
    },
    {
     "data": {
      "image/png": "[encoded data removed]",
      "text/plain": [
       "<Figure size 576x288 with 1 Axes>"
      ]
     },
     "metadata": {
      "needs_background": "light"
     },
     "output_type": "display_data"
    },
    {
     "data": {
      "image/png": "[encoded data removed]",
      "text/plain": [
       "<Figure size 576x288 with 1 Axes>"
      ]
     },
     "metadata": {
      "needs_background": "light"
     },
     "output_type": "display_data"
    }
   ],
   "source": [
    "df = pd.DataFrame(continuous_df)\n",
    "plot_all_columns(df)"
   ]
  },
  {
   "cell_type": "markdown",
   "id": "c07bcf17",
   "metadata": {},
   "source": [
    "## Lab | 10 | Analysis"
   ]
  },
  {
   "cell_type": "code",
   "execution_count": 21,
   "id": "4677512b",
   "metadata": {},
   "outputs": [],
   "source": [
    "# Comment what you can see in the plots."
   ]
  },
  {
   "cell_type": "code",
   "execution_count": 22,
   "id": "0ae85503",
   "metadata": {},
   "outputs": [
    {
     "name": "stdout",
     "output_type": "stream",
     "text": [
      "   Income EmploymentStatus  Count\n",
      "0       0       Unemployed   2317\n"
     ]
    }
   ],
   "source": [
    "numerical_df['Income'].value_counts()\n",
    "# 2317 over the 9134 have 0 income, I confirmed that all of them are unemployed\n",
    "filtered_data = data[data['Income'] == 0]\n",
    "grouped_data = filtered_data.groupby(['Income', 'EmploymentStatus']).size().reset_index(name='Count')\n",
    "print(grouped_data)\n",
    "\n",
    "# data_crosstab = pd.crosstab(matrix_donors['DOMAIN'], matrix_donors['MDMAUD'], margins=False) #con margin=true tengo totales\n",
    "# , margins=False)"
   ]
  },
  {
   "cell_type": "code",
   "execution_count": 23,
   "id": "16882730",
   "metadata": {},
   "outputs": [
    {
     "data": {
      "text/plain": [
       "0    7252\n",
       "1    1011\n",
       "2     374\n",
       "3     292\n",
       "4     149\n",
       "5      56\n",
       "Name: Number_of_Open_Complaints, dtype: int64"
      ]
     },
     "execution_count": 23,
     "metadata": {},
     "output_type": "execute_result"
    }
   ],
   "source": [
    "numerical_df['Number_of_Open_Complaints'].value_counts()\n",
    "# theres 7252 with 0 open complaints, it´s not an issue considering that not every costumer is expected to issue a claim..."
   ]
  },
  {
   "cell_type": "markdown",
   "id": "9d024521",
   "metadata": {},
   "source": [
    "## Lab | 11 | Plot outliers"
   ]
  },
  {
   "cell_type": "code",
   "execution_count": 24,
   "id": "10ebfcf6",
   "metadata": {},
   "outputs": [
    {
     "data": {
      "text/plain": [
       "Index(['Customer_Lifetime_Value', 'Income', 'Monthly_Premium_Auto',\n",
       "       'Months_Since_Last_Claim', 'Months_Since_Policy_Inception',\n",
       "       'Number_of_Open_Complaints', 'Number_of_Policies',\n",
       "       'Total_Claim_Amount'],\n",
       "      dtype='object')"
      ]
     },
     "execution_count": 24,
     "metadata": {},
     "output_type": "execute_result"
    }
   ],
   "source": [
    "# Look for outliers in the continuous variables. (HINT: There’s a good plot to do that!)\n",
    "# Plot the boxplot\n",
    "numerical_df.columns"
   ]
  },
  {
   "cell_type": "code",
   "execution_count": 25,
   "id": "f4ac12ce",
   "metadata": {},
   "outputs": [
    {
     "data": {
      "image/png": "[encoded data removed]",
      "text/plain": [
       "<Figure size 432x288 with 1 Axes>"
      ]
     },
     "metadata": {
      "needs_background": "light"
     },
     "output_type": "display_data"
    }
   ],
   "source": [
    "import seaborn as sns\n",
    "import matplotlib.pyplot as plt\n",
    "\n",
    "# Plot the boxplot\n",
    "sns.boxplot(y=numerical_df['Customer_Lifetime_Value'])\n",
    "plt.show()"
   ]
  },
  {
   "cell_type": "code",
   "execution_count": 26,
   "id": "dd69f1e4",
   "metadata": {},
   "outputs": [
    {
     "data": {
      "image/png": "[encoded data removed]",
      "text/plain": [
       "<Figure size 432x288 with 1 Axes>"
      ]
     },
     "metadata": {
      "needs_background": "light"
     },
     "output_type": "display_data"
    }
   ],
   "source": [
    "\n",
    "sns.boxplot(y=numerical_df['Income'])\n",
    "plt.show()"
   ]
  },
  {
   "cell_type": "code",
   "execution_count": 27,
   "id": "73ac34f3",
   "metadata": {},
   "outputs": [
    {
     "data": {
      "image/png": "[encoded data removed]",
      "text/plain": [
       "<Figure size 432x288 with 1 Axes>"
      ]
     },
     "metadata": {
      "needs_background": "light"
     },
     "output_type": "display_data"
    }
   ],
   "source": [
    "sns.boxplot(y=numerical_df['Monthly_Premium_Auto'])\n",
    "plt.show()"
   ]
  },
  {
   "cell_type": "code",
   "execution_count": 28,
   "id": "9e78b634",
   "metadata": {},
   "outputs": [
    {
     "data": {
      "image/png": "[encoded data removed]",
      "text/plain": [
       "<Figure size 432x288 with 1 Axes>"
      ]
     },
     "metadata": {
      "needs_background": "light"
     },
     "output_type": "display_data"
    }
   ],
   "source": [
    "sns.boxplot(y=numerical_df['Months_Since_Last_Claim'])\n",
    "plt.show()"
   ]
  },
  {
   "cell_type": "code",
   "execution_count": 29,
   "id": "ff7e5b1f",
   "metadata": {},
   "outputs": [
    {
     "data": {
      "image/png": "[encoded data removed]",
      "text/plain": [
       "<Figure size 432x288 with 1 Axes>"
      ]
     },
     "metadata": {
      "needs_background": "light"
     },
     "output_type": "display_data"
    }
   ],
   "source": [
    "sns.boxplot(y=numerical_df['Months_Since_Policy_Inception'])\n",
    "plt.show()"
   ]
  },
  {
   "cell_type": "code",
   "execution_count": 30,
   "id": "4d4d11af",
   "metadata": {},
   "outputs": [
    {
     "data": {
      "image/png": "[encoded data removed]",
      "text/plain": [
       "<Figure size 432x288 with 1 Axes>"
      ]
     },
     "metadata": {
      "needs_background": "light"
     },
     "output_type": "display_data"
    }
   ],
   "source": [
    "sns.boxplot(y=numerical_df['Number_of_Open_Complaints'])\n",
    "plt.show()"
   ]
  },
  {
   "cell_type": "code",
   "execution_count": 31,
   "id": "23eda652",
   "metadata": {},
   "outputs": [
    {
     "data": {
      "image/png": "[encoded data removed]",
      "text/plain": [
       "<Figure size 432x288 with 1 Axes>"
      ]
     },
     "metadata": {
      "needs_background": "light"
     },
     "output_type": "display_data"
    }
   ],
   "source": [
    "sns.boxplot(y=numerical_df['Number_of_Policies'])\n",
    "plt.show()"
   ]
  },
  {
   "cell_type": "markdown",
   "id": "b15c2f86",
   "metadata": {},
   "source": [
    "## Lab | 12 | Outliers"
   ]
  },
  {
   "cell_type": "code",
   "execution_count": 32,
   "id": "6bcda267",
   "metadata": {},
   "outputs": [],
   "source": [
    "# Did you find outliers? Comment what you will do with them. \n",
    "# If you decide to remove them, do that now. Also, remove them from your main dataframe."
   ]
  },
  {
   "cell_type": "code",
   "execution_count": 33,
   "id": "4c0e805a",
   "metadata": {},
   "outputs": [
    {
     "data": {
      "text/plain": [
       "2374.147419    1\n",
       "2611.836866    1\n",
       "2655.996158    1\n",
       "4603.975141    1\n",
       "5641.359160    1\n",
       "6874.848270    1\n",
       "7380.086414    1\n",
       "7591.109246    1\n",
       "9162.063169    1\n",
       "9934.865795    1\n",
       "Name: Customer_Lifetime_Value, dtype: int64"
      ]
     },
     "execution_count": 33,
     "metadata": {},
     "output_type": "execute_result"
    }
   ],
   "source": [
    "numerical_df['Customer_Lifetime_Value'].value_counts().tail(10).sort_index(ascending=True)"
   ]
  },
  {
   "cell_type": "code",
   "execution_count": 34,
   "id": "c4b353a8",
   "metadata": {},
   "outputs": [
    {
     "data": {
      "text/plain": [
       "178    1\n",
       "204    1\n",
       "232    1\n",
       "248    1\n",
       "268    1\n",
       "273    1\n",
       "275    1\n",
       "281    1\n",
       "286    1\n",
       "287    1\n",
       "Name: Monthly_Premium_Auto, dtype: int64"
      ]
     },
     "execution_count": 34,
     "metadata": {},
     "output_type": "execute_result"
    }
   ],
   "source": [
    "numerical_df['Monthly_Premium_Auto'].value_counts().tail(10).sort_index(ascending=True)"
   ]
  },
  {
   "cell_type": "code",
   "execution_count": 35,
   "id": "0b7e1245",
   "metadata": {},
   "outputs": [
    {
     "data": {
      "text/plain": [
       "0    7252\n",
       "1    1011\n",
       "2     374\n",
       "3     292\n",
       "4     149\n",
       "5      56\n",
       "Name: Number_of_Open_Complaints, dtype: int64"
      ]
     },
     "execution_count": 35,
     "metadata": {},
     "output_type": "execute_result"
    }
   ],
   "source": [
    "numerical_df['Number_of_Open_Complaints'].value_counts().head(10).sort_index(ascending=True)"
   ]
  },
  {
   "cell_type": "code",
   "execution_count": 36,
   "id": "42cd4ab7",
   "metadata": {},
   "outputs": [
    {
     "data": {
      "text/plain": [
       "1    3251\n",
       "2    2294\n",
       "3    1168\n",
       "4     409\n",
       "5     407\n",
       "6     372\n",
       "7     433\n",
       "8     384\n",
       "9     416\n",
       "Name: Number_of_Policies, dtype: int64"
      ]
     },
     "execution_count": 36,
     "metadata": {},
     "output_type": "execute_result"
    }
   ],
   "source": [
    "numerical_df['Number_of_Policies'].value_counts().head(15).sort_index(ascending=True)"
   ]
  },
  {
   "cell_type": "markdown",
   "id": "7c0d1bd3",
   "metadata": {},
   "source": [
    "### Lab | 13 | Check NaN values"
   ]
  },
  {
   "cell_type": "code",
   "execution_count": 37,
   "id": "0a1ab466",
   "metadata": {},
   "outputs": [
    {
     "data": {
      "text/plain": [
       "Customer_Lifetime_Value          0\n",
       "Income                           0\n",
       "Monthly_Premium_Auto             0\n",
       "Months_Since_Last_Claim          0\n",
       "Months_Since_Policy_Inception    0\n",
       "Number_of_Open_Complaints        0\n",
       "Number_of_Policies               0\n",
       "Total_Claim_Amount               0\n",
       "dtype: int64"
      ]
     },
     "execution_count": 37,
     "metadata": {},
     "output_type": "execute_result"
    }
   ],
   "source": [
    "# Check all columns for NaN values. Decide what (if anything) you will need to do with them, do that now.\n",
    "numerical_df.isna().sum()"
   ]
  },
  {
   "cell_type": "code",
   "execution_count": 38,
   "id": "90205f06",
   "metadata": {},
   "outputs": [
    {
     "data": {
      "text/plain": [
       "Customer_Lifetime_Value          0\n",
       "Income                           0\n",
       "Monthly_Premium_Auto             0\n",
       "Months_Since_Last_Claim          0\n",
       "Months_Since_Policy_Inception    0\n",
       "Number_of_Open_Complaints        0\n",
       "Number_of_Policies               0\n",
       "Total_Claim_Amount               0\n",
       "dtype: int64"
      ]
     },
     "execution_count": 38,
     "metadata": {},
     "output_type": "execute_result"
    }
   ],
   "source": [
    "numerical_df.isnull().sum()"
   ]
  },
  {
   "cell_type": "markdown",
   "id": "bfedd985",
   "metadata": {},
   "source": [
    "## Lab | 14 | Save numeric.csv"
   ]
  },
  {
   "cell_type": "code",
   "execution_count": 39,
   "id": "77687711",
   "metadata": {},
   "outputs": [
    {
     "name": "stdout",
     "output_type": "stream",
     "text": [
      "DataFrame saved to numerical.csv\n"
     ]
    }
   ],
   "source": [
    "# Save the numerical_df to csv as numerical.csv You will use this file again this week.\n",
    "file_path = \"numerical.csv\"\n",
    "\n",
    "# Save the DataFrame to the CSV file\n",
    "numerical_df.to_csv(file_path, index=False)  # Set index to False to exclude the index column\n",
    "\n",
    "# Confirm that the DataFrame has been saved to the CSV file\n",
    "print(f\"DataFrame saved to {file_path}\")"
   ]
  },
  {
   "cell_type": "markdown",
   "id": "9e2462f1",
   "metadata": {},
   "source": [
    "# Lab | Cleaning categorical data"
   ]
  },
  {
   "cell_type": "markdown",
   "id": "55b156d9",
   "metadata": {},
   "source": [
    "## Lab | 1-2 | Get data"
   ]
  },
  {
   "cell_type": "code",
   "execution_count": 40,
   "id": "b4dfb418",
   "metadata": {},
   "outputs": [],
   "source": [
    "# Open the notebook created for Lab-cleaning-numerical-data.\n",
    "# Find all of the categorical data. Save it in a categorical_df variable."
   ]
  },
  {
   "cell_type": "code",
   "execution_count": 41,
   "id": "0f46c7fa",
   "metadata": {},
   "outputs": [
    {
     "data": {
      "text/plain": [
       "Index(['Customer', 'State', 'Response', 'Coverage', 'Education',\n",
       "       'Effective_To_Date', 'EmploymentStatus', 'Gender', 'Location_Code',\n",
       "       'Marital_Status', 'Policy_Type', 'Policy', 'Renew_Offer_Type',\n",
       "       'Sales_Channel', 'Vehicle_Class', 'Vehicle_Size'],\n",
       "      dtype='object')"
      ]
     },
     "execution_count": 41,
     "metadata": {},
     "output_type": "execute_result"
    }
   ],
   "source": [
    "categorical_df = data.select_dtypes(exclude=['number'])\n",
    "categorical_df.columns"
   ]
  },
  {
   "cell_type": "markdown",
   "id": "9cd9dd74",
   "metadata": {},
   "source": [
    "## Lab | 3 | NaN values"
   ]
  },
  {
   "cell_type": "code",
   "execution_count": 42,
   "id": "00d5d4a4",
   "metadata": {},
   "outputs": [
    {
     "data": {
      "text/plain": [
       "Customer             0\n",
       "State                0\n",
       "Response             0\n",
       "Coverage             0\n",
       "Education            0\n",
       "Effective_To_Date    0\n",
       "EmploymentStatus     0\n",
       "Gender               0\n",
       "Location_Code        0\n",
       "Marital_Status       0\n",
       "Policy_Type          0\n",
       "Policy               0\n",
       "Renew_Offer_Type     0\n",
       "Sales_Channel        0\n",
       "Vehicle_Class        0\n",
       "Vehicle_Size         0\n",
       "dtype: int64"
      ]
     },
     "execution_count": 42,
     "metadata": {},
     "output_type": "execute_result"
    }
   ],
   "source": [
    "# Check for NaN values and decide what to do with them, do it now.\n",
    "categorical_df.isna().sum()"
   ]
  },
  {
   "cell_type": "markdown",
   "id": "bd204921",
   "metadata": {},
   "source": [
    "## Lab | 4 | Unique values of columns"
   ]
  },
  {
   "cell_type": "code",
   "execution_count": 43,
   "id": "fd080e63",
   "metadata": {},
   "outputs": [],
   "source": [
    "# Check all unique values of columns."
   ]
  },
  {
   "cell_type": "code",
   "execution_count": 44,
   "id": "a5c88f0b",
   "metadata": {},
   "outputs": [
    {
     "data": {
      "text/plain": [
       "Index(['Customer', 'State', 'Response', 'Coverage', 'Education',\n",
       "       'Effective_To_Date', 'EmploymentStatus', 'Gender', 'Location_Code',\n",
       "       'Marital_Status', 'Policy_Type', 'Policy', 'Renew_Offer_Type',\n",
       "       'Sales_Channel', 'Vehicle_Class', 'Vehicle_Size'],\n",
       "      dtype='object')"
      ]
     },
     "execution_count": 44,
     "metadata": {},
     "output_type": "execute_result"
    }
   ],
   "source": [
    "categorical_df.columns"
   ]
  },
  {
   "cell_type": "code",
   "execution_count": 45,
   "id": "20f0af27",
   "metadata": {},
   "outputs": [
    {
     "data": {
      "text/plain": [
       "California    3150\n",
       "Oregon        2601\n",
       "Arizona       1703\n",
       "Nevada         882\n",
       "Washington     798\n",
       "Name: State, dtype: int64"
      ]
     },
     "execution_count": 45,
     "metadata": {},
     "output_type": "execute_result"
    }
   ],
   "source": [
    "categorical_df['State'].value_counts()"
   ]
  },
  {
   "cell_type": "code",
   "execution_count": 46,
   "id": "c754145b",
   "metadata": {},
   "outputs": [
    {
     "data": {
      "text/plain": [
       "No     7826\n",
       "Yes    1308\n",
       "Name: Response, dtype: int64"
      ]
     },
     "execution_count": 46,
     "metadata": {},
     "output_type": "execute_result"
    }
   ],
   "source": [
    "categorical_df['Response'].value_counts()"
   ]
  },
  {
   "cell_type": "code",
   "execution_count": 47,
   "id": "1c1d7934",
   "metadata": {},
   "outputs": [
    {
     "data": {
      "text/plain": [
       "Basic       5568\n",
       "Extended    2742\n",
       "Premium      824\n",
       "Name: Coverage, dtype: int64"
      ]
     },
     "execution_count": 47,
     "metadata": {},
     "output_type": "execute_result"
    }
   ],
   "source": [
    "categorical_df['Coverage'].value_counts()"
   ]
  },
  {
   "cell_type": "code",
   "execution_count": 48,
   "id": "21864435",
   "metadata": {},
   "outputs": [
    {
     "data": {
      "text/plain": [
       "Bachelor                2748\n",
       "College                 2681\n",
       "High School or Below    2622\n",
       "Master                   741\n",
       "Doctor                   342\n",
       "Name: Education, dtype: int64"
      ]
     },
     "execution_count": 48,
     "metadata": {},
     "output_type": "execute_result"
    }
   ],
   "source": [
    "categorical_df['Education'].value_counts()"
   ]
  },
  {
   "cell_type": "code",
   "execution_count": 49,
   "id": "693dba85",
   "metadata": {},
   "outputs": [
    {
     "data": {
      "text/plain": [
       "Employed         5698\n",
       "Unemployed       2317\n",
       "Medical Leave     432\n",
       "Disabled          405\n",
       "Retired           282\n",
       "Name: EmploymentStatus, dtype: int64"
      ]
     },
     "execution_count": 49,
     "metadata": {},
     "output_type": "execute_result"
    }
   ],
   "source": [
    "categorical_df['EmploymentStatus'].value_counts()"
   ]
  },
  {
   "cell_type": "code",
   "execution_count": 50,
   "id": "9ed524fc",
   "metadata": {},
   "outputs": [
    {
     "data": {
      "text/plain": [
       "F    4658\n",
       "M    4476\n",
       "Name: Gender, dtype: int64"
      ]
     },
     "execution_count": 50,
     "metadata": {},
     "output_type": "execute_result"
    }
   ],
   "source": [
    "categorical_df['Gender'].value_counts()"
   ]
  },
  {
   "cell_type": "code",
   "execution_count": 51,
   "id": "0e624b54",
   "metadata": {},
   "outputs": [
    {
     "data": {
      "text/plain": [
       "Suburban    5779\n",
       "Rural       1773\n",
       "Urban       1582\n",
       "Name: Location_Code, dtype: int64"
      ]
     },
     "execution_count": 51,
     "metadata": {},
     "output_type": "execute_result"
    }
   ],
   "source": [
    "categorical_df['Location_Code'].value_counts()"
   ]
  },
  {
   "cell_type": "code",
   "execution_count": 52,
   "id": "8e99c8ba",
   "metadata": {},
   "outputs": [
    {
     "data": {
      "text/plain": [
       "Married     5298\n",
       "Single      2467\n",
       "Divorced    1369\n",
       "Name: Marital_Status, dtype: int64"
      ]
     },
     "execution_count": 52,
     "metadata": {},
     "output_type": "execute_result"
    }
   ],
   "source": [
    "categorical_df['Marital_Status'].value_counts()"
   ]
  },
  {
   "cell_type": "code",
   "execution_count": 53,
   "id": "1fa45c6f",
   "metadata": {},
   "outputs": [
    {
     "data": {
      "text/plain": [
       "Personal Auto     6788\n",
       "Corporate Auto    1968\n",
       "Special Auto       378\n",
       "Name: Policy_Type, dtype: int64"
      ]
     },
     "execution_count": 53,
     "metadata": {},
     "output_type": "execute_result"
    }
   ],
   "source": [
    "categorical_df['Policy_Type'].value_counts()"
   ]
  },
  {
   "cell_type": "code",
   "execution_count": 54,
   "id": "897cda1e",
   "metadata": {},
   "outputs": [
    {
     "data": {
      "text/plain": [
       "Personal L3     3426\n",
       "Personal L2     2122\n",
       "Personal L1     1240\n",
       "Corporate L3    1014\n",
       "Corporate L2     595\n",
       "Corporate L1     359\n",
       "Special L2       164\n",
       "Special L3       148\n",
       "Special L1        66\n",
       "Name: Policy, dtype: int64"
      ]
     },
     "execution_count": 54,
     "metadata": {},
     "output_type": "execute_result"
    }
   ],
   "source": [
    "categorical_df['Policy'].value_counts()"
   ]
  },
  {
   "cell_type": "code",
   "execution_count": 55,
   "id": "3eeb0adb",
   "metadata": {},
   "outputs": [
    {
     "data": {
      "text/plain": [
       "Offer1    3752\n",
       "Offer2    2926\n",
       "Offer3    1432\n",
       "Offer4    1024\n",
       "Name: Renew_Offer_Type, dtype: int64"
      ]
     },
     "execution_count": 55,
     "metadata": {},
     "output_type": "execute_result"
    }
   ],
   "source": [
    "categorical_df['Renew_Offer_Type'].value_counts()"
   ]
  },
  {
   "cell_type": "code",
   "execution_count": 56,
   "id": "574066c0",
   "metadata": {},
   "outputs": [
    {
     "data": {
      "text/plain": [
       "Agent          3477\n",
       "Branch         2567\n",
       "Call Center    1765\n",
       "Web            1325\n",
       "Name: Sales_Channel, dtype: int64"
      ]
     },
     "execution_count": 56,
     "metadata": {},
     "output_type": "execute_result"
    }
   ],
   "source": [
    "categorical_df['Sales_Channel'].value_counts()"
   ]
  },
  {
   "cell_type": "code",
   "execution_count": 57,
   "id": "97d7b79a",
   "metadata": {},
   "outputs": [
    {
     "data": {
      "text/plain": [
       "Four-Door Car    4621\n",
       "Two-Door Car     1886\n",
       "SUV              1796\n",
       "Sports Car        484\n",
       "Luxury SUV        184\n",
       "Luxury Car        163\n",
       "Name: Vehicle_Class, dtype: int64"
      ]
     },
     "execution_count": 57,
     "metadata": {},
     "output_type": "execute_result"
    }
   ],
   "source": [
    "categorical_df['Vehicle_Class'].value_counts()"
   ]
  },
  {
   "cell_type": "code",
   "execution_count": 58,
   "id": "01284723",
   "metadata": {},
   "outputs": [
    {
     "data": {
      "text/plain": [
       "Medsize    6424\n",
       "Small      1764\n",
       "Large       946\n",
       "Name: Vehicle_Size, dtype: int64"
      ]
     },
     "execution_count": 58,
     "metadata": {},
     "output_type": "execute_result"
    }
   ],
   "source": [
    "categorical_df['Vehicle_Size'].value_counts()"
   ]
  },
  {
   "cell_type": "markdown",
   "id": "5cb5e02a",
   "metadata": {},
   "source": [
    "## Lab | 5 | Datatypes"
   ]
  },
  {
   "cell_type": "code",
   "execution_count": 59,
   "id": "001dcd3d",
   "metadata": {},
   "outputs": [
    {
     "data": {
      "text/plain": [
       "Customer                     object\n",
       "State                        object\n",
       "Response                     object\n",
       "Coverage                     object\n",
       "Education                    object\n",
       "Effective_To_Date    datetime64[ns]\n",
       "EmploymentStatus             object\n",
       "Gender                       object\n",
       "Location_Code                object\n",
       "Marital_Status               object\n",
       "Policy_Type                  object\n",
       "Policy                       object\n",
       "Renew_Offer_Type             object\n",
       "Sales_Channel                object\n",
       "Vehicle_Class                object\n",
       "Vehicle_Size                 object\n",
       "dtype: object"
      ]
     },
     "execution_count": 59,
     "metadata": {},
     "output_type": "execute_result"
    }
   ],
   "source": [
    "# Check dtypes. Do they all make sense as categorical data? Yes, everything looks perfectly well..\n",
    "categorical_df.dtypes"
   ]
  },
  {
   "cell_type": "markdown",
   "id": "c9567479",
   "metadata": {},
   "source": [
    "## Lab | 6 | Alphanumeric values"
   ]
  },
  {
   "cell_type": "code",
   "execution_count": 60,
   "id": "a5727016",
   "metadata": {},
   "outputs": [
    {
     "data": {
      "text/plain": [
       "BU79786    1\n",
       "PU81096    1\n",
       "CO75086    1\n",
       "WW52683    1\n",
       "XO38850    1\n",
       "          ..\n",
       "HS14476    1\n",
       "YL91587    1\n",
       "CT18212    1\n",
       "EW35231    1\n",
       "Y167826    1\n",
       "Name: Customer, Length: 9134, dtype: int64"
      ]
     },
     "execution_count": 60,
     "metadata": {},
     "output_type": "execute_result"
    }
   ],
   "source": [
    "# Does any column contain alpha and numeric data? \n",
    "# Decide how to clean it and do it now: Theres's no need to clean, It's the format choosen by the company to identify clients.\n",
    "categorical_df['Customer'].value_counts()"
   ]
  },
  {
   "cell_type": "markdown",
   "id": "495069f8",
   "metadata": {},
   "source": [
    "## Lab | 7 | Cleanning or wrangling"
   ]
  },
  {
   "cell_type": "code",
   "execution_count": 61,
   "id": "df0276e1",
   "metadata": {},
   "outputs": [
    {
     "data": {
      "text/plain": [
       "Personal L3 Personal Auto      3426\n",
       "Personal L2 Personal Auto      2122\n",
       "Personal L1 Personal Auto      1240\n",
       "Corporate L3 Corporate Auto    1014\n",
       "Corporate L2 Corporate Auto     595\n",
       "Corporate L1 Corporate Auto     359\n",
       "Special L2 Special Auto         164\n",
       "Special L3 Special Auto         148\n",
       "Special L1 Special Auto          66\n",
       "Name: Combined_Policy, dtype: int64"
      ]
     },
     "execution_count": 61,
     "metadata": {},
     "output_type": "execute_result"
    }
   ],
   "source": [
    "# Would you choose to do anything else to clean or wrangle the categorical data? Comment your decisions and do it now.\n",
    "categorical_df['Combined_Policy'] = categorical_df['Policy'] + ' ' + categorical_df['Policy_Type']\n",
    "categorical_df['Combined_Policy'].value_counts()"
   ]
  },
  {
   "cell_type": "markdown",
   "id": "514c7222",
   "metadata": {},
   "source": [
    "## Lab | 8 | Combining columns policy and policy type"
   ]
  },
  {
   "cell_type": "code",
   "execution_count": 62,
   "id": "1139d8da",
   "metadata": {},
   "outputs": [
    {
     "data": {
      "text/html": [
       "<div>\n",
       "<style scoped>\n",
       "    .dataframe tbody tr th:only-of-type {\n",
       "        vertical-align: middle;\n",
       "    }\n",
       "\n",
       "    .dataframe tbody tr th {\n",
       "        vertical-align: top;\n",
       "    }\n",
       "\n",
       "    .dataframe thead th {\n",
       "        text-align: right;\n",
       "    }\n",
       "</style>\n",
       "<table border=\"1\" class=\"dataframe\">\n",
       "  <thead>\n",
       "    <tr style=\"text-align: right;\">\n",
       "      <th>Policy_Type</th>\n",
       "      <th>Corporate Auto</th>\n",
       "      <th>Personal Auto</th>\n",
       "      <th>Special Auto</th>\n",
       "    </tr>\n",
       "    <tr>\n",
       "      <th>Policy</th>\n",
       "      <th></th>\n",
       "      <th></th>\n",
       "      <th></th>\n",
       "    </tr>\n",
       "  </thead>\n",
       "  <tbody>\n",
       "    <tr>\n",
       "      <th>Corporate L1</th>\n",
       "      <td>359</td>\n",
       "      <td>0</td>\n",
       "      <td>0</td>\n",
       "    </tr>\n",
       "    <tr>\n",
       "      <th>Corporate L2</th>\n",
       "      <td>595</td>\n",
       "      <td>0</td>\n",
       "      <td>0</td>\n",
       "    </tr>\n",
       "    <tr>\n",
       "      <th>Corporate L3</th>\n",
       "      <td>1014</td>\n",
       "      <td>0</td>\n",
       "      <td>0</td>\n",
       "    </tr>\n",
       "    <tr>\n",
       "      <th>Personal L1</th>\n",
       "      <td>0</td>\n",
       "      <td>1240</td>\n",
       "      <td>0</td>\n",
       "    </tr>\n",
       "    <tr>\n",
       "      <th>Personal L2</th>\n",
       "      <td>0</td>\n",
       "      <td>2122</td>\n",
       "      <td>0</td>\n",
       "    </tr>\n",
       "    <tr>\n",
       "      <th>Personal L3</th>\n",
       "      <td>0</td>\n",
       "      <td>3426</td>\n",
       "      <td>0</td>\n",
       "    </tr>\n",
       "    <tr>\n",
       "      <th>Special L1</th>\n",
       "      <td>0</td>\n",
       "      <td>0</td>\n",
       "      <td>66</td>\n",
       "    </tr>\n",
       "    <tr>\n",
       "      <th>Special L2</th>\n",
       "      <td>0</td>\n",
       "      <td>0</td>\n",
       "      <td>164</td>\n",
       "    </tr>\n",
       "    <tr>\n",
       "      <th>Special L3</th>\n",
       "      <td>0</td>\n",
       "      <td>0</td>\n",
       "      <td>148</td>\n",
       "    </tr>\n",
       "  </tbody>\n",
       "</table>\n",
       "</div>"
      ],
      "text/plain": [
       "Policy_Type   Corporate Auto  Personal Auto  Special Auto\n",
       "Policy                                                   \n",
       "Corporate L1             359              0             0\n",
       "Corporate L2             595              0             0\n",
       "Corporate L3            1014              0             0\n",
       "Personal L1                0           1240             0\n",
       "Personal L2                0           2122             0\n",
       "Personal L3                0           3426             0\n",
       "Special L1                 0              0            66\n",
       "Special L2                 0              0           164\n",
       "Special L3                 0              0           148"
      ]
     },
     "execution_count": 62,
     "metadata": {},
     "output_type": "execute_result"
    }
   ],
   "source": [
    "# Compare policy_type and policy. What information is contained in these columns.\n",
    "# Can you identify what is important?\n",
    "\n",
    "import pandas as pd\n",
    "contingency_table = pd.crosstab(categorical_df['Policy'], categorical_df['Policy_Type'])\n",
    "contingency_table\n",
    "\n",
    "# Corporate L1, L2 y L3 are 'Corporate Auto' policy type\n",
    "# Personal L1, L2 y L3 are 'Personal Auto' policy type\n",
    "# Special L1, L2 y L3 are 'Special Auto' policy type\n",
    "# I believe that we can ignore Policy Type column as we have all the information in the Policy column, \n",
    "# however I am not sure if we should ignore Policy column instead..."
   ]
  },
  {
   "cell_type": "code",
   "execution_count": 63,
   "id": "7e704830",
   "metadata": {},
   "outputs": [],
   "source": [
    "categorical_df['policy_ptype'] = categorical_df['Policy'] +'-'+ categorical_df['Policy_Type']"
   ]
  },
  {
   "cell_type": "code",
   "execution_count": 64,
   "id": "e2c684b4",
   "metadata": {},
   "outputs": [],
   "source": [
    "categorical_df = categorical_df.drop(['Policy', 'Policy_Type'], axis=1)"
   ]
  },
  {
   "cell_type": "code",
   "execution_count": 65,
   "id": "02102f2f",
   "metadata": {},
   "outputs": [
    {
     "data": {
      "text/plain": [
       "Index(['Customer', 'State', 'Response', 'Coverage', 'Education',\n",
       "       'Effective_To_Date', 'EmploymentStatus', 'Gender', 'Location_Code',\n",
       "       'Marital_Status', 'Renew_Offer_Type', 'Sales_Channel', 'Vehicle_Class',\n",
       "       'Vehicle_Size', 'Combined_Policy', 'policy_ptype'],\n",
       "      dtype='object')"
      ]
     },
     "execution_count": 65,
     "metadata": {},
     "output_type": "execute_result"
    }
   ],
   "source": [
    "categorical_df.columns"
   ]
  },
  {
   "cell_type": "code",
   "execution_count": 66,
   "id": "7546e721",
   "metadata": {},
   "outputs": [
    {
     "data": {
      "text/plain": [
       "Personal L3-Personal Auto      3426\n",
       "Personal L2-Personal Auto      2122\n",
       "Personal L1-Personal Auto      1240\n",
       "Corporate L3-Corporate Auto    1014\n",
       "Corporate L2-Corporate Auto     595\n",
       "Corporate L1-Corporate Auto     359\n",
       "Special L2-Special Auto         164\n",
       "Special L3-Special Auto         148\n",
       "Special L1-Special Auto          66\n",
       "Name: policy_ptype, dtype: int64"
      ]
     },
     "execution_count": 66,
     "metadata": {},
     "output_type": "execute_result"
    }
   ],
   "source": [
    "categorical_df['policy_ptype'].value_counts()"
   ]
  },
  {
   "cell_type": "markdown",
   "id": "e5b53a45",
   "metadata": {},
   "source": [
    "## Lab | 9 | Combining columns"
   ]
  },
  {
   "cell_type": "code",
   "execution_count": 67,
   "id": "9deb4f5b",
   "metadata": {},
   "outputs": [],
   "source": [
    "# Check number of unique values in each column, can they be combined in any way to ease encoding?\n",
    "# Comment your thoughts and make those changes. \n",
    "# I already combined Policy and Policy type... I think the rest is fine"
   ]
  },
  {
   "cell_type": "markdown",
   "id": "58bd0526",
   "metadata": {},
   "source": [
    "## Lab | 10 | Create categorical.csv"
   ]
  },
  {
   "cell_type": "code",
   "execution_count": 68,
   "id": "77ccc072",
   "metadata": {},
   "outputs": [
    {
     "name": "stdout",
     "output_type": "stream",
     "text": [
      "DataFrame saved to categorical.csv\n"
     ]
    }
   ],
   "source": [
    "# Save the cleaned catagorical dataframe as categorical.csv You will use this file again this week.\n",
    "file_path = \"categorical.csv\"\n",
    "\n",
    "# Save the DataFrame to the CSV file\n",
    "numerical_df.to_csv(file_path, index=False)  # Set index to False to exclude the index column\n",
    "\n",
    "# Confirm that the DataFrame has been saved to the CSV file\n",
    "print(f\"DataFrame saved to {file_path}\")"
   ]
  },
  {
   "cell_type": "markdown",
   "id": "bade027a",
   "metadata": {},
   "source": [
    "# Lab | Feature extraction"
   ]
  },
  {
   "cell_type": "markdown",
   "id": "25a41a0b",
   "metadata": {},
   "source": [
    "## Lab | 1-3 | Plot categorical"
   ]
  },
  {
   "cell_type": "code",
   "execution_count": 69,
   "id": "d61471ca",
   "metadata": {},
   "outputs": [],
   "source": [
    "# Open the categorical dataframe we created before.\n",
    "# Plot all the categorical variables with the proper plot. What can you see?\n",
    "# There might be some columns that seem to be redundant, check their values to be sure. \n",
    "# What should we do with them?\n",
    "# Make any changes you feel are necessary."
   ]
  },
  {
   "cell_type": "code",
   "execution_count": 70,
   "id": "b9564c49",
   "metadata": {},
   "outputs": [
    {
     "data": {
      "text/plain": [
       "Index(['Customer', 'State', 'Response', 'Coverage', 'Education',\n",
       "       'Effective_To_Date', 'EmploymentStatus', 'Gender', 'Location_Code',\n",
       "       'Marital_Status', 'Renew_Offer_Type', 'Sales_Channel', 'Vehicle_Class',\n",
       "       'Vehicle_Size', 'Combined_Policy', 'policy_ptype'],\n",
       "      dtype='object')"
      ]
     },
     "execution_count": 70,
     "metadata": {},
     "output_type": "execute_result"
    }
   ],
   "source": [
    "categorical_df.columns"
   ]
  },
  {
   "cell_type": "markdown",
   "id": "346d5e1c",
   "metadata": {},
   "source": [
    "## Lab | 3-5 | Plot time variable"
   ]
  },
  {
   "cell_type": "code",
   "execution_count": 71,
   "id": "e3bd47b2",
   "metadata": {},
   "outputs": [],
   "source": [
    "# Plot time variable. Can you extract something from it?\n",
    "# The time variable can be useful. You shoud transform its data into a more useful form.\n",
    "# Hint: Day, week, and month as integers might be useful."
   ]
  },
  {
   "cell_type": "code",
   "execution_count": 72,
   "id": "86caf284",
   "metadata": {},
   "outputs": [
    {
     "data": {
      "text/plain": [
       "Index(['Customer', 'State', 'Response', 'Coverage', 'Education',\n",
       "       'Effective_To_Date', 'EmploymentStatus', 'Gender', 'Location_Code',\n",
       "       'Marital_Status', 'Renew_Offer_Type', 'Sales_Channel', 'Vehicle_Class',\n",
       "       'Vehicle_Size', 'Combined_Policy', 'policy_ptype'],\n",
       "      dtype='object')"
      ]
     },
     "execution_count": 72,
     "metadata": {},
     "output_type": "execute_result"
    }
   ],
   "source": [
    "categorical_df.columns"
   ]
  },
  {
   "cell_type": "code",
   "execution_count": 73,
   "id": "d19d1486",
   "metadata": {},
   "outputs": [
    {
     "data": {
      "text/plain": [
       "Index(['Customer', 'State', 'Response', 'Coverage', 'Education',\n",
       "       'Effective_To_Date', 'EmploymentStatus', 'Gender', 'Location_Code',\n",
       "       'Marital_Status', 'Renew_Offer_Type', 'Sales_Channel', 'Vehicle_Class',\n",
       "       'Vehicle_Size', 'Combined_Policy', 'policy_ptype', 'Day', 'Month',\n",
       "       'Week'],\n",
       "      dtype='object')"
      ]
     },
     "execution_count": 73,
     "metadata": {},
     "output_type": "execute_result"
    }
   ],
   "source": [
    "categorical_df['Day'] = categorical_df['Effective_To_Date'].dt.day\n",
    "categorical_df['Month'] = categorical_df['Effective_To_Date'].dt.month\n",
    "categorical_df['Week'] = categorical_df['Effective_To_Date'].dt.isocalendar().week\n",
    "categorical_df.columns"
   ]
  },
  {
   "cell_type": "code",
   "execution_count": 74,
   "id": "0b30c805",
   "metadata": {},
   "outputs": [
    {
     "data": {
      "text/plain": [
       "Index(['Day', 'Month', 'Week'], dtype='object')"
      ]
     },
     "execution_count": 74,
     "metadata": {},
     "output_type": "execute_result"
    }
   ],
   "source": [
    "categorical_df_num=categorical_df.select_dtypes('number')\n",
    "categorical_df_num.columns"
   ]
  },
  {
   "cell_type": "code",
   "execution_count": 75,
   "id": "45aec5b6",
   "metadata": {},
   "outputs": [
    {
     "data": {
      "text/plain": [
       "Index(['Customer_Lifetime_Value', 'Income', 'Monthly_Premium_Auto',\n",
       "       'Months_Since_Last_Claim', 'Months_Since_Policy_Inception',\n",
       "       'Number_of_Open_Complaints', 'Number_of_Policies', 'Total_Claim_Amount',\n",
       "       'Day', 'Month', 'Week'],\n",
       "      dtype='object')"
      ]
     },
     "execution_count": 75,
     "metadata": {},
     "output_type": "execute_result"
    }
   ],
   "source": [
    "numerical_df = pd.concat([numerical_df, categorical_df[['Day', 'Month', 'Week']]], axis=1)\n",
    "numerical_df = numerical_df.loc[:, ~numerical_df.columns.duplicated()]\n",
    "numerical_df.columns"
   ]
  },
  {
   "cell_type": "code",
   "execution_count": 76,
   "id": "cd0b4a3c",
   "metadata": {},
   "outputs": [
    {
     "data": {
      "text/plain": [
       "Index(['Customer', 'State', 'Response', 'Coverage', 'Education',\n",
       "       'EmploymentStatus', 'Gender', 'Location_Code', 'Marital_Status',\n",
       "       'Renew_Offer_Type', 'Sales_Channel', 'Vehicle_Class', 'Vehicle_Size',\n",
       "       'Combined_Policy', 'policy_ptype'],\n",
       "      dtype='object')"
      ]
     },
     "execution_count": 76,
     "metadata": {},
     "output_type": "execute_result"
    }
   ],
   "source": [
    "categorical_df = categorical_df.drop(['Day', 'Month', 'Week','Effective_To_Date'], axis=1)\n",
    "categorical_df.columns"
   ]
  },
  {
   "cell_type": "markdown",
   "id": "8f6f0895",
   "metadata": {},
   "source": [
    "# Lab | Comparing-regression-models"
   ]
  },
  {
   "cell_type": "markdown",
   "id": "93cfd61f",
   "metadata": {},
   "source": [
    "## Lab | 0 | Train_test_split"
   ]
  },
  {
   "cell_type": "code",
   "execution_count": 77,
   "id": "a32a9446",
   "metadata": {},
   "outputs": [],
   "source": [
    "# Concatenate Numerical and Categorical dataframes into one dataframe called data. Split into X=features y=target.\n",
    "# separate the features from the labels"
   ]
  },
  {
   "cell_type": "code",
   "execution_count": 78,
   "id": "a116e920",
   "metadata": {},
   "outputs": [
    {
     "data": {
      "text/plain": [
       "Index(['State', 'Response', 'Coverage', 'Education', 'EmploymentStatus',\n",
       "       'Gender', 'Location_Code', 'Marital_Status', 'Renew_Offer_Type',\n",
       "       'Sales_Channel', 'Vehicle_Class', 'Vehicle_Size', 'Combined_Policy',\n",
       "       'policy_ptype'],\n",
       "      dtype='object')"
      ]
     },
     "execution_count": 78,
     "metadata": {},
     "output_type": "execute_result"
    }
   ],
   "source": [
    "categorical_df = categorical_df.drop(['Customer'], axis=1)\n",
    "categorical_df.columns"
   ]
  },
  {
   "cell_type": "code",
   "execution_count": 79,
   "id": "59092fc5",
   "metadata": {},
   "outputs": [
    {
     "data": {
      "text/html": [
       "<div>\n",
       "<style scoped>\n",
       "    .dataframe tbody tr th:only-of-type {\n",
       "        vertical-align: middle;\n",
       "    }\n",
       "\n",
       "    .dataframe tbody tr th {\n",
       "        vertical-align: top;\n",
       "    }\n",
       "\n",
       "    .dataframe thead th {\n",
       "        text-align: right;\n",
       "    }\n",
       "</style>\n",
       "<table border=\"1\" class=\"dataframe\">\n",
       "  <thead>\n",
       "    <tr style=\"text-align: right;\">\n",
       "      <th></th>\n",
       "      <th>State</th>\n",
       "      <th>Response</th>\n",
       "      <th>Coverage</th>\n",
       "      <th>Education</th>\n",
       "      <th>EmploymentStatus</th>\n",
       "      <th>Gender</th>\n",
       "      <th>Location_Code</th>\n",
       "      <th>Marital_Status</th>\n",
       "      <th>Renew_Offer_Type</th>\n",
       "      <th>Sales_Channel</th>\n",
       "      <th>...</th>\n",
       "      <th>Income</th>\n",
       "      <th>Monthly_Premium_Auto</th>\n",
       "      <th>Months_Since_Last_Claim</th>\n",
       "      <th>Months_Since_Policy_Inception</th>\n",
       "      <th>Number_of_Open_Complaints</th>\n",
       "      <th>Number_of_Policies</th>\n",
       "      <th>Total_Claim_Amount</th>\n",
       "      <th>Day</th>\n",
       "      <th>Month</th>\n",
       "      <th>Week</th>\n",
       "    </tr>\n",
       "  </thead>\n",
       "  <tbody>\n",
       "    <tr>\n",
       "      <th>0</th>\n",
       "      <td>Washington</td>\n",
       "      <td>No</td>\n",
       "      <td>Basic</td>\n",
       "      <td>Bachelor</td>\n",
       "      <td>Employed</td>\n",
       "      <td>F</td>\n",
       "      <td>Suburban</td>\n",
       "      <td>Married</td>\n",
       "      <td>Offer1</td>\n",
       "      <td>Agent</td>\n",
       "      <td>...</td>\n",
       "      <td>56274</td>\n",
       "      <td>69</td>\n",
       "      <td>32</td>\n",
       "      <td>5</td>\n",
       "      <td>0</td>\n",
       "      <td>1</td>\n",
       "      <td>384.811147</td>\n",
       "      <td>24</td>\n",
       "      <td>2</td>\n",
       "      <td>8</td>\n",
       "    </tr>\n",
       "    <tr>\n",
       "      <th>1</th>\n",
       "      <td>Arizona</td>\n",
       "      <td>No</td>\n",
       "      <td>Extended</td>\n",
       "      <td>Bachelor</td>\n",
       "      <td>Unemployed</td>\n",
       "      <td>F</td>\n",
       "      <td>Suburban</td>\n",
       "      <td>Single</td>\n",
       "      <td>Offer3</td>\n",
       "      <td>Agent</td>\n",
       "      <td>...</td>\n",
       "      <td>0</td>\n",
       "      <td>94</td>\n",
       "      <td>13</td>\n",
       "      <td>42</td>\n",
       "      <td>0</td>\n",
       "      <td>8</td>\n",
       "      <td>1131.464935</td>\n",
       "      <td>31</td>\n",
       "      <td>1</td>\n",
       "      <td>5</td>\n",
       "    </tr>\n",
       "    <tr>\n",
       "      <th>2</th>\n",
       "      <td>Nevada</td>\n",
       "      <td>No</td>\n",
       "      <td>Premium</td>\n",
       "      <td>Bachelor</td>\n",
       "      <td>Employed</td>\n",
       "      <td>F</td>\n",
       "      <td>Suburban</td>\n",
       "      <td>Married</td>\n",
       "      <td>Offer1</td>\n",
       "      <td>Agent</td>\n",
       "      <td>...</td>\n",
       "      <td>48767</td>\n",
       "      <td>108</td>\n",
       "      <td>18</td>\n",
       "      <td>38</td>\n",
       "      <td>0</td>\n",
       "      <td>2</td>\n",
       "      <td>566.472247</td>\n",
       "      <td>19</td>\n",
       "      <td>2</td>\n",
       "      <td>7</td>\n",
       "    </tr>\n",
       "    <tr>\n",
       "      <th>3</th>\n",
       "      <td>California</td>\n",
       "      <td>No</td>\n",
       "      <td>Basic</td>\n",
       "      <td>Bachelor</td>\n",
       "      <td>Unemployed</td>\n",
       "      <td>M</td>\n",
       "      <td>Suburban</td>\n",
       "      <td>Married</td>\n",
       "      <td>Offer1</td>\n",
       "      <td>Call Center</td>\n",
       "      <td>...</td>\n",
       "      <td>0</td>\n",
       "      <td>106</td>\n",
       "      <td>18</td>\n",
       "      <td>65</td>\n",
       "      <td>0</td>\n",
       "      <td>7</td>\n",
       "      <td>529.881344</td>\n",
       "      <td>20</td>\n",
       "      <td>1</td>\n",
       "      <td>3</td>\n",
       "    </tr>\n",
       "    <tr>\n",
       "      <th>4</th>\n",
       "      <td>Washington</td>\n",
       "      <td>No</td>\n",
       "      <td>Basic</td>\n",
       "      <td>Bachelor</td>\n",
       "      <td>Employed</td>\n",
       "      <td>M</td>\n",
       "      <td>Rural</td>\n",
       "      <td>Single</td>\n",
       "      <td>Offer1</td>\n",
       "      <td>Agent</td>\n",
       "      <td>...</td>\n",
       "      <td>43836</td>\n",
       "      <td>73</td>\n",
       "      <td>12</td>\n",
       "      <td>44</td>\n",
       "      <td>0</td>\n",
       "      <td>1</td>\n",
       "      <td>138.130879</td>\n",
       "      <td>3</td>\n",
       "      <td>2</td>\n",
       "      <td>5</td>\n",
       "    </tr>\n",
       "  </tbody>\n",
       "</table>\n",
       "<p>5 rows × 25 columns</p>\n",
       "</div>"
      ],
      "text/plain": [
       "        State Response  Coverage Education EmploymentStatus Gender  \\\n",
       "0  Washington       No     Basic  Bachelor         Employed      F   \n",
       "1     Arizona       No  Extended  Bachelor       Unemployed      F   \n",
       "2      Nevada       No   Premium  Bachelor         Employed      F   \n",
       "3  California       No     Basic  Bachelor       Unemployed      M   \n",
       "4  Washington       No     Basic  Bachelor         Employed      M   \n",
       "\n",
       "  Location_Code Marital_Status Renew_Offer_Type Sales_Channel  ... Income  \\\n",
       "0      Suburban        Married           Offer1         Agent  ...  56274   \n",
       "1      Suburban         Single           Offer3         Agent  ...      0   \n",
       "2      Suburban        Married           Offer1         Agent  ...  48767   \n",
       "3      Suburban        Married           Offer1   Call Center  ...      0   \n",
       "4         Rural         Single           Offer1         Agent  ...  43836   \n",
       "\n",
       "  Monthly_Premium_Auto Months_Since_Last_Claim Months_Since_Policy_Inception  \\\n",
       "0                   69                      32                             5   \n",
       "1                   94                      13                            42   \n",
       "2                  108                      18                            38   \n",
       "3                  106                      18                            65   \n",
       "4                   73                      12                            44   \n",
       "\n",
       "   Number_of_Open_Complaints  Number_of_Policies  Total_Claim_Amount  Day  \\\n",
       "0                          0                   1          384.811147   24   \n",
       "1                          0                   8         1131.464935   31   \n",
       "2                          0                   2          566.472247   19   \n",
       "3                          0                   7          529.881344   20   \n",
       "4                          0                   1          138.130879    3   \n",
       "\n",
       "   Month  Week  \n",
       "0      2     8  \n",
       "1      1     5  \n",
       "2      2     7  \n",
       "3      1     3  \n",
       "4      2     5  \n",
       "\n",
       "[5 rows x 25 columns]"
      ]
     },
     "execution_count": 79,
     "metadata": {},
     "output_type": "execute_result"
    }
   ],
   "source": [
    "data = pd.concat([categorical_df,numerical_df], axis=1)\n",
    "data.head()"
   ]
  },
  {
   "cell_type": "code",
   "execution_count": 80,
   "id": "3de99a83",
   "metadata": {},
   "outputs": [
    {
     "data": {
      "text/plain": [
       "Index(['State', 'Response', 'Coverage', 'Education', 'EmploymentStatus',\n",
       "       'Gender', 'Location_Code', 'Marital_Status', 'Renew_Offer_Type',\n",
       "       'Sales_Channel', 'Vehicle_Class', 'Vehicle_Size', 'Combined_Policy',\n",
       "       'policy_ptype', 'Customer_Lifetime_Value', 'Income',\n",
       "       'Monthly_Premium_Auto', 'Months_Since_Last_Claim',\n",
       "       'Months_Since_Policy_Inception', 'Number_of_Open_Complaints',\n",
       "       'Number_of_Policies', 'Total_Claim_Amount', 'Day', 'Month', 'Week'],\n",
       "      dtype='object')"
      ]
     },
     "execution_count": 80,
     "metadata": {},
     "output_type": "execute_result"
    }
   ],
   "source": [
    "data.columns"
   ]
  },
  {
   "cell_type": "code",
   "execution_count": 81,
   "id": "9d372881",
   "metadata": {},
   "outputs": [],
   "source": [
    "# separate the features from the labels\n",
    "y = data['Total_Claim_Amount']\n",
    "X = data.drop('Total_Claim_Amount',axis=1)"
   ]
  },
  {
   "cell_type": "code",
   "execution_count": 82,
   "id": "62dfee7e",
   "metadata": {},
   "outputs": [],
   "source": [
    "# X = data.drop('Total_Claim_Amount',axis=1)"
   ]
  },
  {
   "cell_type": "code",
   "execution_count": 83,
   "id": "f2ef72ca",
   "metadata": {},
   "outputs": [],
   "source": [
    "#categorical features and numerical ones are going to be treated differently\n",
    "X_num = X.select_dtypes(include = np.number)\n",
    "X_cat = X.select_dtypes(include = object)"
   ]
  },
  {
   "cell_type": "markdown",
   "id": "02aab752",
   "metadata": {},
   "source": [
    "## Lab | 1 | Train_test_split"
   ]
  },
  {
   "cell_type": "code",
   "execution_count": 84,
   "id": "20208478",
   "metadata": {},
   "outputs": [],
   "source": [
    "# 1. In this final lab, we will model our data. Import sklearn `train_test_split` and separate the data.\n",
    "from sklearn.model_selection import train_test_split"
   ]
  },
  {
   "cell_type": "markdown",
   "id": "d1af49c9",
   "metadata": {},
   "source": [
    "## Lab | 2 | Separate X_train and X_test"
   ]
  },
  {
   "cell_type": "code",
   "execution_count": 85,
   "id": "592898b1",
   "metadata": {},
   "outputs": [
    {
     "name": "stdout",
     "output_type": "stream",
     "text": [
      "X_train shape is: (7307, 24)\n",
      "y_train shape is: (7307,)\n",
      "X_test shape is: (1827, 24)\n",
      "y_train shape is: (1827,)\n"
     ]
    }
   ],
   "source": [
    "# 2. Separate X_train and X_test into numerical and categorical (X_train_cat , X_train_num , X_test_cat , X_test_num)\n",
    "X_train, X_test, y_train, y_test = train_test_split(X, y, test_size=0.2, random_state=13)\n",
    "print('X_train shape is:',X_train.shape)\n",
    "print('y_train shape is:', y_train.shape)\n",
    "print('X_test shape is:', X_test.shape)\n",
    "print('y_train shape is:', y_test.shape)"
   ]
  },
  {
   "cell_type": "code",
   "execution_count": 86,
   "id": "530a250e",
   "metadata": {},
   "outputs": [
    {
     "data": {
      "text/html": [
       "<div>\n",
       "<style scoped>\n",
       "    .dataframe tbody tr th:only-of-type {\n",
       "        vertical-align: middle;\n",
       "    }\n",
       "\n",
       "    .dataframe tbody tr th {\n",
       "        vertical-align: top;\n",
       "    }\n",
       "\n",
       "    .dataframe thead th {\n",
       "        text-align: right;\n",
       "    }\n",
       "</style>\n",
       "<table border=\"1\" class=\"dataframe\">\n",
       "  <thead>\n",
       "    <tr style=\"text-align: right;\">\n",
       "      <th></th>\n",
       "      <th>State</th>\n",
       "      <th>Response</th>\n",
       "      <th>Coverage</th>\n",
       "      <th>Education</th>\n",
       "      <th>EmploymentStatus</th>\n",
       "      <th>Gender</th>\n",
       "      <th>Location_Code</th>\n",
       "      <th>Marital_Status</th>\n",
       "      <th>Renew_Offer_Type</th>\n",
       "      <th>Sales_Channel</th>\n",
       "      <th>...</th>\n",
       "      <th>Customer_Lifetime_Value</th>\n",
       "      <th>Income</th>\n",
       "      <th>Monthly_Premium_Auto</th>\n",
       "      <th>Months_Since_Last_Claim</th>\n",
       "      <th>Months_Since_Policy_Inception</th>\n",
       "      <th>Number_of_Open_Complaints</th>\n",
       "      <th>Number_of_Policies</th>\n",
       "      <th>Day</th>\n",
       "      <th>Month</th>\n",
       "      <th>Week</th>\n",
       "    </tr>\n",
       "  </thead>\n",
       "  <tbody>\n",
       "    <tr>\n",
       "      <th>1212</th>\n",
       "      <td>California</td>\n",
       "      <td>No</td>\n",
       "      <td>Basic</td>\n",
       "      <td>College</td>\n",
       "      <td>Employed</td>\n",
       "      <td>F</td>\n",
       "      <td>Rural</td>\n",
       "      <td>Single</td>\n",
       "      <td>Offer1</td>\n",
       "      <td>Agent</td>\n",
       "      <td>...</td>\n",
       "      <td>5328.835851</td>\n",
       "      <td>81064</td>\n",
       "      <td>70</td>\n",
       "      <td>20</td>\n",
       "      <td>4</td>\n",
       "      <td>4</td>\n",
       "      <td>3</td>\n",
       "      <td>30</td>\n",
       "      <td>1</td>\n",
       "      <td>4</td>\n",
       "    </tr>\n",
       "    <tr>\n",
       "      <th>5656</th>\n",
       "      <td>California</td>\n",
       "      <td>No</td>\n",
       "      <td>Basic</td>\n",
       "      <td>Master</td>\n",
       "      <td>Employed</td>\n",
       "      <td>M</td>\n",
       "      <td>Urban</td>\n",
       "      <td>Married</td>\n",
       "      <td>Offer4</td>\n",
       "      <td>Call Center</td>\n",
       "      <td>...</td>\n",
       "      <td>2602.650842</td>\n",
       "      <td>41958</td>\n",
       "      <td>66</td>\n",
       "      <td>15</td>\n",
       "      <td>49</td>\n",
       "      <td>1</td>\n",
       "      <td>1</td>\n",
       "      <td>24</td>\n",
       "      <td>1</td>\n",
       "      <td>4</td>\n",
       "    </tr>\n",
       "    <tr>\n",
       "      <th>7437</th>\n",
       "      <td>Oregon</td>\n",
       "      <td>No</td>\n",
       "      <td>Extended</td>\n",
       "      <td>Bachelor</td>\n",
       "      <td>Employed</td>\n",
       "      <td>M</td>\n",
       "      <td>Suburban</td>\n",
       "      <td>Married</td>\n",
       "      <td>Offer3</td>\n",
       "      <td>Call Center</td>\n",
       "      <td>...</td>\n",
       "      <td>4864.527356</td>\n",
       "      <td>37406</td>\n",
       "      <td>122</td>\n",
       "      <td>23</td>\n",
       "      <td>38</td>\n",
       "      <td>1</td>\n",
       "      <td>1</td>\n",
       "      <td>2</td>\n",
       "      <td>1</td>\n",
       "      <td>52</td>\n",
       "    </tr>\n",
       "    <tr>\n",
       "      <th>3274</th>\n",
       "      <td>California</td>\n",
       "      <td>Yes</td>\n",
       "      <td>Basic</td>\n",
       "      <td>College</td>\n",
       "      <td>Unemployed</td>\n",
       "      <td>F</td>\n",
       "      <td>Suburban</td>\n",
       "      <td>Married</td>\n",
       "      <td>Offer1</td>\n",
       "      <td>Agent</td>\n",
       "      <td>...</td>\n",
       "      <td>8002.308333</td>\n",
       "      <td>0</td>\n",
       "      <td>107</td>\n",
       "      <td>3</td>\n",
       "      <td>65</td>\n",
       "      <td>0</td>\n",
       "      <td>3</td>\n",
       "      <td>11</td>\n",
       "      <td>1</td>\n",
       "      <td>2</td>\n",
       "    </tr>\n",
       "    <tr>\n",
       "      <th>5153</th>\n",
       "      <td>California</td>\n",
       "      <td>No</td>\n",
       "      <td>Basic</td>\n",
       "      <td>Bachelor</td>\n",
       "      <td>Employed</td>\n",
       "      <td>M</td>\n",
       "      <td>Rural</td>\n",
       "      <td>Married</td>\n",
       "      <td>Offer1</td>\n",
       "      <td>Agent</td>\n",
       "      <td>...</td>\n",
       "      <td>13345.135450</td>\n",
       "      <td>80277</td>\n",
       "      <td>112</td>\n",
       "      <td>6</td>\n",
       "      <td>40</td>\n",
       "      <td>1</td>\n",
       "      <td>2</td>\n",
       "      <td>28</td>\n",
       "      <td>1</td>\n",
       "      <td>4</td>\n",
       "    </tr>\n",
       "  </tbody>\n",
       "</table>\n",
       "<p>5 rows × 24 columns</p>\n",
       "</div>"
      ],
      "text/plain": [
       "           State Response  Coverage Education EmploymentStatus Gender  \\\n",
       "1212  California       No     Basic   College         Employed      F   \n",
       "5656  California       No     Basic    Master         Employed      M   \n",
       "7437      Oregon       No  Extended  Bachelor         Employed      M   \n",
       "3274  California      Yes     Basic   College       Unemployed      F   \n",
       "5153  California       No     Basic  Bachelor         Employed      M   \n",
       "\n",
       "     Location_Code Marital_Status Renew_Offer_Type Sales_Channel  ...  \\\n",
       "1212         Rural         Single           Offer1         Agent  ...   \n",
       "5656         Urban        Married           Offer4   Call Center  ...   \n",
       "7437      Suburban        Married           Offer3   Call Center  ...   \n",
       "3274      Suburban        Married           Offer1         Agent  ...   \n",
       "5153         Rural        Married           Offer1         Agent  ...   \n",
       "\n",
       "     Customer_Lifetime_Value Income Monthly_Premium_Auto  \\\n",
       "1212             5328.835851  81064                   70   \n",
       "5656             2602.650842  41958                   66   \n",
       "7437             4864.527356  37406                  122   \n",
       "3274             8002.308333      0                  107   \n",
       "5153            13345.135450  80277                  112   \n",
       "\n",
       "     Months_Since_Last_Claim  Months_Since_Policy_Inception  \\\n",
       "1212                      20                              4   \n",
       "5656                      15                             49   \n",
       "7437                      23                             38   \n",
       "3274                       3                             65   \n",
       "5153                       6                             40   \n",
       "\n",
       "      Number_of_Open_Complaints  Number_of_Policies  Day  Month  Week  \n",
       "1212                          4                   3   30      1     4  \n",
       "5656                          1                   1   24      1     4  \n",
       "7437                          1                   1    2      1    52  \n",
       "3274                          0                   3   11      1     2  \n",
       "5153                          1                   2   28      1     4  \n",
       "\n",
       "[5 rows x 24 columns]"
      ]
     },
     "execution_count": 86,
     "metadata": {},
     "output_type": "execute_result"
    }
   ],
   "source": [
    "X_train.head()"
   ]
  },
  {
   "cell_type": "code",
   "execution_count": 87,
   "id": "6139a43b",
   "metadata": {},
   "outputs": [
    {
     "data": {
      "text/html": [
       "<div>\n",
       "<style scoped>\n",
       "    .dataframe tbody tr th:only-of-type {\n",
       "        vertical-align: middle;\n",
       "    }\n",
       "\n",
       "    .dataframe tbody tr th {\n",
       "        vertical-align: top;\n",
       "    }\n",
       "\n",
       "    .dataframe thead th {\n",
       "        text-align: right;\n",
       "    }\n",
       "</style>\n",
       "<table border=\"1\" class=\"dataframe\">\n",
       "  <thead>\n",
       "    <tr style=\"text-align: right;\">\n",
       "      <th></th>\n",
       "      <th>State</th>\n",
       "      <th>Response</th>\n",
       "      <th>Coverage</th>\n",
       "      <th>Education</th>\n",
       "      <th>EmploymentStatus</th>\n",
       "      <th>Gender</th>\n",
       "      <th>Location_Code</th>\n",
       "      <th>Marital_Status</th>\n",
       "      <th>Renew_Offer_Type</th>\n",
       "      <th>Sales_Channel</th>\n",
       "      <th>...</th>\n",
       "      <th>Customer_Lifetime_Value</th>\n",
       "      <th>Income</th>\n",
       "      <th>Monthly_Premium_Auto</th>\n",
       "      <th>Months_Since_Last_Claim</th>\n",
       "      <th>Months_Since_Policy_Inception</th>\n",
       "      <th>Number_of_Open_Complaints</th>\n",
       "      <th>Number_of_Policies</th>\n",
       "      <th>Day</th>\n",
       "      <th>Month</th>\n",
       "      <th>Week</th>\n",
       "    </tr>\n",
       "  </thead>\n",
       "  <tbody>\n",
       "    <tr>\n",
       "      <th>791</th>\n",
       "      <td>California</td>\n",
       "      <td>No</td>\n",
       "      <td>Basic</td>\n",
       "      <td>College</td>\n",
       "      <td>Employed</td>\n",
       "      <td>M</td>\n",
       "      <td>Rural</td>\n",
       "      <td>Divorced</td>\n",
       "      <td>Offer3</td>\n",
       "      <td>Branch</td>\n",
       "      <td>...</td>\n",
       "      <td>2453.408288</td>\n",
       "      <td>83772</td>\n",
       "      <td>62</td>\n",
       "      <td>13</td>\n",
       "      <td>76</td>\n",
       "      <td>0</td>\n",
       "      <td>1</td>\n",
       "      <td>21</td>\n",
       "      <td>1</td>\n",
       "      <td>3</td>\n",
       "    </tr>\n",
       "    <tr>\n",
       "      <th>1822</th>\n",
       "      <td>Oregon</td>\n",
       "      <td>No</td>\n",
       "      <td>Basic</td>\n",
       "      <td>High School or Below</td>\n",
       "      <td>Employed</td>\n",
       "      <td>F</td>\n",
       "      <td>Rural</td>\n",
       "      <td>Divorced</td>\n",
       "      <td>Offer3</td>\n",
       "      <td>Agent</td>\n",
       "      <td>...</td>\n",
       "      <td>8692.636838</td>\n",
       "      <td>97768</td>\n",
       "      <td>72</td>\n",
       "      <td>22</td>\n",
       "      <td>14</td>\n",
       "      <td>0</td>\n",
       "      <td>2</td>\n",
       "      <td>8</td>\n",
       "      <td>1</td>\n",
       "      <td>1</td>\n",
       "    </tr>\n",
       "    <tr>\n",
       "      <th>4908</th>\n",
       "      <td>Oregon</td>\n",
       "      <td>No</td>\n",
       "      <td>Basic</td>\n",
       "      <td>Bachelor</td>\n",
       "      <td>Employed</td>\n",
       "      <td>F</td>\n",
       "      <td>Rural</td>\n",
       "      <td>Married</td>\n",
       "      <td>Offer2</td>\n",
       "      <td>Branch</td>\n",
       "      <td>...</td>\n",
       "      <td>5424.256733</td>\n",
       "      <td>67414</td>\n",
       "      <td>68</td>\n",
       "      <td>7</td>\n",
       "      <td>37</td>\n",
       "      <td>0</td>\n",
       "      <td>8</td>\n",
       "      <td>27</td>\n",
       "      <td>2</td>\n",
       "      <td>8</td>\n",
       "    </tr>\n",
       "    <tr>\n",
       "      <th>9100</th>\n",
       "      <td>California</td>\n",
       "      <td>No</td>\n",
       "      <td>Extended</td>\n",
       "      <td>Bachelor</td>\n",
       "      <td>Employed</td>\n",
       "      <td>M</td>\n",
       "      <td>Suburban</td>\n",
       "      <td>Married</td>\n",
       "      <td>Offer2</td>\n",
       "      <td>Call Center</td>\n",
       "      <td>...</td>\n",
       "      <td>3843.965188</td>\n",
       "      <td>43987</td>\n",
       "      <td>96</td>\n",
       "      <td>29</td>\n",
       "      <td>17</td>\n",
       "      <td>0</td>\n",
       "      <td>1</td>\n",
       "      <td>16</td>\n",
       "      <td>1</td>\n",
       "      <td>2</td>\n",
       "    </tr>\n",
       "    <tr>\n",
       "      <th>6403</th>\n",
       "      <td>Oregon</td>\n",
       "      <td>No</td>\n",
       "      <td>Extended</td>\n",
       "      <td>Bachelor</td>\n",
       "      <td>Unemployed</td>\n",
       "      <td>F</td>\n",
       "      <td>Suburban</td>\n",
       "      <td>Married</td>\n",
       "      <td>Offer3</td>\n",
       "      <td>Call Center</td>\n",
       "      <td>...</td>\n",
       "      <td>4648.539191</td>\n",
       "      <td>0</td>\n",
       "      <td>121</td>\n",
       "      <td>11</td>\n",
       "      <td>10</td>\n",
       "      <td>0</td>\n",
       "      <td>1</td>\n",
       "      <td>1</td>\n",
       "      <td>1</td>\n",
       "      <td>52</td>\n",
       "    </tr>\n",
       "  </tbody>\n",
       "</table>\n",
       "<p>5 rows × 24 columns</p>\n",
       "</div>"
      ],
      "text/plain": [
       "           State Response  Coverage             Education EmploymentStatus  \\\n",
       "791   California       No     Basic               College         Employed   \n",
       "1822      Oregon       No     Basic  High School or Below         Employed   \n",
       "4908      Oregon       No     Basic              Bachelor         Employed   \n",
       "9100  California       No  Extended              Bachelor         Employed   \n",
       "6403      Oregon       No  Extended              Bachelor       Unemployed   \n",
       "\n",
       "     Gender Location_Code Marital_Status Renew_Offer_Type Sales_Channel  ...  \\\n",
       "791       M         Rural       Divorced           Offer3        Branch  ...   \n",
       "1822      F         Rural       Divorced           Offer3         Agent  ...   \n",
       "4908      F         Rural        Married           Offer2        Branch  ...   \n",
       "9100      M      Suburban        Married           Offer2   Call Center  ...   \n",
       "6403      F      Suburban        Married           Offer3   Call Center  ...   \n",
       "\n",
       "     Customer_Lifetime_Value Income Monthly_Premium_Auto  \\\n",
       "791              2453.408288  83772                   62   \n",
       "1822             8692.636838  97768                   72   \n",
       "4908             5424.256733  67414                   68   \n",
       "9100             3843.965188  43987                   96   \n",
       "6403             4648.539191      0                  121   \n",
       "\n",
       "     Months_Since_Last_Claim  Months_Since_Policy_Inception  \\\n",
       "791                       13                             76   \n",
       "1822                      22                             14   \n",
       "4908                       7                             37   \n",
       "9100                      29                             17   \n",
       "6403                      11                             10   \n",
       "\n",
       "      Number_of_Open_Complaints  Number_of_Policies  Day  Month  Week  \n",
       "791                           0                   1   21      1     3  \n",
       "1822                          0                   2    8      1     1  \n",
       "4908                          0                   8   27      2     8  \n",
       "9100                          0                   1   16      1     2  \n",
       "6403                          0                   1    1      1    52  \n",
       "\n",
       "[5 rows x 24 columns]"
      ]
     },
     "execution_count": 87,
     "metadata": {},
     "output_type": "execute_result"
    }
   ],
   "source": [
    "X_test.head()"
   ]
  },
  {
   "cell_type": "code",
   "execution_count": 88,
   "id": "ee19bf9a",
   "metadata": {},
   "outputs": [],
   "source": [
    "X_train_num = X_train.select_dtypes(np.number)\n",
    "X_train_cat = X_train.select_dtypes(object)"
   ]
  },
  {
   "cell_type": "code",
   "execution_count": 89,
   "id": "457672dc",
   "metadata": {},
   "outputs": [],
   "source": [
    "X_test_num = X_test.select_dtypes(np.number)\n",
    "X_test_cat = X_test.select_dtypes(object)"
   ]
  },
  {
   "cell_type": "markdown",
   "id": "972ac65e",
   "metadata": {},
   "source": [
    "## Lab | 3 | X_train_num to fit scalers"
   ]
  },
  {
   "cell_type": "code",
   "execution_count": 90,
   "id": "fae928ff",
   "metadata": {},
   "outputs": [
    {
     "name": "stdout",
     "output_type": "stream",
     "text": [
      "(7307, 10)\n"
     ]
    },
    {
     "data": {
      "text/html": [
       "<div>\n",
       "<style scoped>\n",
       "    .dataframe tbody tr th:only-of-type {\n",
       "        vertical-align: middle;\n",
       "    }\n",
       "\n",
       "    .dataframe tbody tr th {\n",
       "        vertical-align: top;\n",
       "    }\n",
       "\n",
       "    .dataframe thead th {\n",
       "        text-align: right;\n",
       "    }\n",
       "</style>\n",
       "<table border=\"1\" class=\"dataframe\">\n",
       "  <thead>\n",
       "    <tr style=\"text-align: right;\">\n",
       "      <th></th>\n",
       "      <th>Customer_Lifetime_Value</th>\n",
       "      <th>Income</th>\n",
       "      <th>Monthly_Premium_Auto</th>\n",
       "      <th>Months_Since_Last_Claim</th>\n",
       "      <th>Months_Since_Policy_Inception</th>\n",
       "      <th>Number_of_Open_Complaints</th>\n",
       "      <th>Number_of_Policies</th>\n",
       "      <th>Day</th>\n",
       "      <th>Month</th>\n",
       "      <th>Week</th>\n",
       "    </tr>\n",
       "  </thead>\n",
       "  <tbody>\n",
       "    <tr>\n",
       "      <th>1212</th>\n",
       "      <td>0.042134</td>\n",
       "      <td>0.810794</td>\n",
       "      <td>0.038136</td>\n",
       "      <td>0.571429</td>\n",
       "      <td>0.040404</td>\n",
       "      <td>0.8</td>\n",
       "      <td>0.250</td>\n",
       "      <td>0.966667</td>\n",
       "      <td>0.0</td>\n",
       "      <td>0.058824</td>\n",
       "    </tr>\n",
       "    <tr>\n",
       "      <th>5656</th>\n",
       "      <td>0.008654</td>\n",
       "      <td>0.419660</td>\n",
       "      <td>0.021186</td>\n",
       "      <td>0.428571</td>\n",
       "      <td>0.494949</td>\n",
       "      <td>0.2</td>\n",
       "      <td>0.000</td>\n",
       "      <td>0.766667</td>\n",
       "      <td>0.0</td>\n",
       "      <td>0.058824</td>\n",
       "    </tr>\n",
       "    <tr>\n",
       "      <th>7437</th>\n",
       "      <td>0.036431</td>\n",
       "      <td>0.374131</td>\n",
       "      <td>0.258475</td>\n",
       "      <td>0.657143</td>\n",
       "      <td>0.383838</td>\n",
       "      <td>0.2</td>\n",
       "      <td>0.000</td>\n",
       "      <td>0.033333</td>\n",
       "      <td>0.0</td>\n",
       "      <td>1.000000</td>\n",
       "    </tr>\n",
       "    <tr>\n",
       "      <th>3274</th>\n",
       "      <td>0.074966</td>\n",
       "      <td>0.000000</td>\n",
       "      <td>0.194915</td>\n",
       "      <td>0.085714</td>\n",
       "      <td>0.656566</td>\n",
       "      <td>0.0</td>\n",
       "      <td>0.250</td>\n",
       "      <td>0.333333</td>\n",
       "      <td>0.0</td>\n",
       "      <td>0.019608</td>\n",
       "    </tr>\n",
       "    <tr>\n",
       "      <th>5153</th>\n",
       "      <td>0.140581</td>\n",
       "      <td>0.802923</td>\n",
       "      <td>0.216102</td>\n",
       "      <td>0.171429</td>\n",
       "      <td>0.404040</td>\n",
       "      <td>0.2</td>\n",
       "      <td>0.125</td>\n",
       "      <td>0.900000</td>\n",
       "      <td>0.0</td>\n",
       "      <td>0.058824</td>\n",
       "    </tr>\n",
       "  </tbody>\n",
       "</table>\n",
       "</div>"
      ],
      "text/plain": [
       "      Customer_Lifetime_Value    Income  Monthly_Premium_Auto  \\\n",
       "1212                 0.042134  0.810794              0.038136   \n",
       "5656                 0.008654  0.419660              0.021186   \n",
       "7437                 0.036431  0.374131              0.258475   \n",
       "3274                 0.074966  0.000000              0.194915   \n",
       "5153                 0.140581  0.802923              0.216102   \n",
       "\n",
       "      Months_Since_Last_Claim  Months_Since_Policy_Inception  \\\n",
       "1212                 0.571429                       0.040404   \n",
       "5656                 0.428571                       0.494949   \n",
       "7437                 0.657143                       0.383838   \n",
       "3274                 0.085714                       0.656566   \n",
       "5153                 0.171429                       0.404040   \n",
       "\n",
       "      Number_of_Open_Complaints  Number_of_Policies       Day  Month      Week  \n",
       "1212                        0.8               0.250  0.966667    0.0  0.058824  \n",
       "5656                        0.2               0.000  0.766667    0.0  0.058824  \n",
       "7437                        0.2               0.000  0.033333    0.0  1.000000  \n",
       "3274                        0.0               0.250  0.333333    0.0  0.019608  \n",
       "5153                        0.2               0.125  0.900000    0.0  0.058824  "
      ]
     },
     "execution_count": 90,
     "metadata": {},
     "output_type": "execute_result"
    }
   ],
   "source": [
    "# 3. Use X_train_num to fit scalers.  Transform BOTH X_train_num and X_test_num.\n",
    "from sklearn.preprocessing import MinMaxScaler\n",
    "transformer = MinMaxScaler().fit(X_train_num)\n",
    "X_train_norm = transformer.transform(X_train_num)\n",
    "print(X_train_norm.shape)\n",
    "X_train_num_scale = pd.DataFrame(X_train_norm, index = X_train_num.index, columns=X_train_num.columns)\n",
    "X_train_num_scale.head()"
   ]
  },
  {
   "cell_type": "code",
   "execution_count": 91,
   "id": "6cd89ea6",
   "metadata": {},
   "outputs": [
    {
     "name": "stdout",
     "output_type": "stream",
     "text": [
      "(1827, 10)\n"
     ]
    },
    {
     "data": {
      "text/html": [
       "<div>\n",
       "<style scoped>\n",
       "    .dataframe tbody tr th:only-of-type {\n",
       "        vertical-align: middle;\n",
       "    }\n",
       "\n",
       "    .dataframe tbody tr th {\n",
       "        vertical-align: top;\n",
       "    }\n",
       "\n",
       "    .dataframe thead th {\n",
       "        text-align: right;\n",
       "    }\n",
       "</style>\n",
       "<table border=\"1\" class=\"dataframe\">\n",
       "  <thead>\n",
       "    <tr style=\"text-align: right;\">\n",
       "      <th></th>\n",
       "      <th>Customer_Lifetime_Value</th>\n",
       "      <th>Income</th>\n",
       "      <th>Monthly_Premium_Auto</th>\n",
       "      <th>Months_Since_Last_Claim</th>\n",
       "      <th>Months_Since_Policy_Inception</th>\n",
       "      <th>Number_of_Open_Complaints</th>\n",
       "      <th>Number_of_Policies</th>\n",
       "      <th>Day</th>\n",
       "      <th>Month</th>\n",
       "      <th>Week</th>\n",
       "    </tr>\n",
       "  </thead>\n",
       "  <tbody>\n",
       "    <tr>\n",
       "      <th>791</th>\n",
       "      <td>0.006821</td>\n",
       "      <td>0.837879</td>\n",
       "      <td>0.004237</td>\n",
       "      <td>0.371429</td>\n",
       "      <td>0.767677</td>\n",
       "      <td>0.0</td>\n",
       "      <td>0.000</td>\n",
       "      <td>0.666667</td>\n",
       "      <td>0.0</td>\n",
       "      <td>0.039216</td>\n",
       "    </tr>\n",
       "    <tr>\n",
       "      <th>1822</th>\n",
       "      <td>0.083444</td>\n",
       "      <td>0.977866</td>\n",
       "      <td>0.046610</td>\n",
       "      <td>0.628571</td>\n",
       "      <td>0.141414</td>\n",
       "      <td>0.0</td>\n",
       "      <td>0.125</td>\n",
       "      <td>0.233333</td>\n",
       "      <td>0.0</td>\n",
       "      <td>0.000000</td>\n",
       "    </tr>\n",
       "    <tr>\n",
       "      <th>4908</th>\n",
       "      <td>0.043305</td>\n",
       "      <td>0.674268</td>\n",
       "      <td>0.029661</td>\n",
       "      <td>0.200000</td>\n",
       "      <td>0.373737</td>\n",
       "      <td>0.0</td>\n",
       "      <td>0.875</td>\n",
       "      <td>0.866667</td>\n",
       "      <td>1.0</td>\n",
       "      <td>0.137255</td>\n",
       "    </tr>\n",
       "    <tr>\n",
       "      <th>9100</th>\n",
       "      <td>0.023898</td>\n",
       "      <td>0.439954</td>\n",
       "      <td>0.148305</td>\n",
       "      <td>0.828571</td>\n",
       "      <td>0.171717</td>\n",
       "      <td>0.0</td>\n",
       "      <td>0.000</td>\n",
       "      <td>0.500000</td>\n",
       "      <td>0.0</td>\n",
       "      <td>0.019608</td>\n",
       "    </tr>\n",
       "    <tr>\n",
       "      <th>6403</th>\n",
       "      <td>0.033779</td>\n",
       "      <td>0.000000</td>\n",
       "      <td>0.254237</td>\n",
       "      <td>0.314286</td>\n",
       "      <td>0.101010</td>\n",
       "      <td>0.0</td>\n",
       "      <td>0.000</td>\n",
       "      <td>0.000000</td>\n",
       "      <td>0.0</td>\n",
       "      <td>1.000000</td>\n",
       "    </tr>\n",
       "  </tbody>\n",
       "</table>\n",
       "</div>"
      ],
      "text/plain": [
       "      Customer_Lifetime_Value    Income  Monthly_Premium_Auto  \\\n",
       "791                  0.006821  0.837879              0.004237   \n",
       "1822                 0.083444  0.977866              0.046610   \n",
       "4908                 0.043305  0.674268              0.029661   \n",
       "9100                 0.023898  0.439954              0.148305   \n",
       "6403                 0.033779  0.000000              0.254237   \n",
       "\n",
       "      Months_Since_Last_Claim  Months_Since_Policy_Inception  \\\n",
       "791                  0.371429                       0.767677   \n",
       "1822                 0.628571                       0.141414   \n",
       "4908                 0.200000                       0.373737   \n",
       "9100                 0.828571                       0.171717   \n",
       "6403                 0.314286                       0.101010   \n",
       "\n",
       "      Number_of_Open_Complaints  Number_of_Policies       Day  Month      Week  \n",
       "791                         0.0               0.000  0.666667    0.0  0.039216  \n",
       "1822                        0.0               0.125  0.233333    0.0  0.000000  \n",
       "4908                        0.0               0.875  0.866667    1.0  0.137255  \n",
       "9100                        0.0               0.000  0.500000    0.0  0.019608  \n",
       "6403                        0.0               0.000  0.000000    0.0  1.000000  "
      ]
     },
     "execution_count": 91,
     "metadata": {},
     "output_type": "execute_result"
    }
   ],
   "source": [
    "X_test_norm = transformer.transform(X_test_num)\n",
    "print(X_test_norm.shape)\n",
    "X_test_num_scale = pd.DataFrame(X_test_norm, index = X_test_num.index, columns=X_test_num.columns)\n",
    "X_test_num_scale.head()"
   ]
  },
  {
   "cell_type": "markdown",
   "id": "7590fec2",
   "metadata": {},
   "source": [
    "## Lab | 4 | Encode the categorical variables"
   ]
  },
  {
   "cell_type": "code",
   "execution_count": 92,
   "id": "6aa22ef4",
   "metadata": {},
   "outputs": [],
   "source": [
    "# 4. Encode the categorical variables X_train_cat and X_test_cat \n",
    "# (See the hint below for encoding categorical data!!!)\n",
    "X_train_encoded = pd.get_dummies(X_train_cat, drop_first=True)\n",
    "X_test_encoded = pd.get_dummies(X_test_cat, drop_first=True)"
   ]
  },
  {
   "cell_type": "markdown",
   "id": "f4958ae4",
   "metadata": {},
   "source": [
    "## Lab | 5 | Check categorical variables"
   ]
  },
  {
   "cell_type": "code",
   "execution_count": 93,
   "id": "69e307a8",
   "metadata": {},
   "outputs": [],
   "source": [
    "# 5. Since the model will only accept numerical data, check and make sure that every column is numerical,\n",
    "# if some are not, change it using encoding."
   ]
  },
  {
   "cell_type": "code",
   "execution_count": 94,
   "id": "cb2fa5b8",
   "metadata": {},
   "outputs": [
    {
     "data": {
      "text/html": [
       "<div>\n",
       "<style scoped>\n",
       "    .dataframe tbody tr th:only-of-type {\n",
       "        vertical-align: middle;\n",
       "    }\n",
       "\n",
       "    .dataframe tbody tr th {\n",
       "        vertical-align: top;\n",
       "    }\n",
       "\n",
       "    .dataframe thead th {\n",
       "        text-align: right;\n",
       "    }\n",
       "</style>\n",
       "<table border=\"1\" class=\"dataframe\">\n",
       "  <thead>\n",
       "    <tr style=\"text-align: right;\">\n",
       "      <th></th>\n",
       "      <th>State_California</th>\n",
       "      <th>State_Nevada</th>\n",
       "      <th>State_Oregon</th>\n",
       "      <th>State_Washington</th>\n",
       "      <th>Response_Yes</th>\n",
       "      <th>Coverage_Extended</th>\n",
       "      <th>Coverage_Premium</th>\n",
       "      <th>Education_College</th>\n",
       "      <th>Education_Doctor</th>\n",
       "      <th>Education_High School or Below</th>\n",
       "      <th>...</th>\n",
       "      <th>Combined_Policy_Special L2 Special Auto</th>\n",
       "      <th>Combined_Policy_Special L3 Special Auto</th>\n",
       "      <th>policy_ptype_Corporate L2-Corporate Auto</th>\n",
       "      <th>policy_ptype_Corporate L3-Corporate Auto</th>\n",
       "      <th>policy_ptype_Personal L1-Personal Auto</th>\n",
       "      <th>policy_ptype_Personal L2-Personal Auto</th>\n",
       "      <th>policy_ptype_Personal L3-Personal Auto</th>\n",
       "      <th>policy_ptype_Special L1-Special Auto</th>\n",
       "      <th>policy_ptype_Special L2-Special Auto</th>\n",
       "      <th>policy_ptype_Special L3-Special Auto</th>\n",
       "    </tr>\n",
       "  </thead>\n",
       "  <tbody>\n",
       "    <tr>\n",
       "      <th>1212</th>\n",
       "      <td>1</td>\n",
       "      <td>0</td>\n",
       "      <td>0</td>\n",
       "      <td>0</td>\n",
       "      <td>0</td>\n",
       "      <td>0</td>\n",
       "      <td>0</td>\n",
       "      <td>1</td>\n",
       "      <td>0</td>\n",
       "      <td>0</td>\n",
       "      <td>...</td>\n",
       "      <td>0</td>\n",
       "      <td>0</td>\n",
       "      <td>0</td>\n",
       "      <td>0</td>\n",
       "      <td>0</td>\n",
       "      <td>0</td>\n",
       "      <td>1</td>\n",
       "      <td>0</td>\n",
       "      <td>0</td>\n",
       "      <td>0</td>\n",
       "    </tr>\n",
       "    <tr>\n",
       "      <th>5656</th>\n",
       "      <td>1</td>\n",
       "      <td>0</td>\n",
       "      <td>0</td>\n",
       "      <td>0</td>\n",
       "      <td>0</td>\n",
       "      <td>0</td>\n",
       "      <td>0</td>\n",
       "      <td>0</td>\n",
       "      <td>0</td>\n",
       "      <td>0</td>\n",
       "      <td>...</td>\n",
       "      <td>0</td>\n",
       "      <td>0</td>\n",
       "      <td>0</td>\n",
       "      <td>1</td>\n",
       "      <td>0</td>\n",
       "      <td>0</td>\n",
       "      <td>0</td>\n",
       "      <td>0</td>\n",
       "      <td>0</td>\n",
       "      <td>0</td>\n",
       "    </tr>\n",
       "    <tr>\n",
       "      <th>7437</th>\n",
       "      <td>0</td>\n",
       "      <td>0</td>\n",
       "      <td>1</td>\n",
       "      <td>0</td>\n",
       "      <td>0</td>\n",
       "      <td>1</td>\n",
       "      <td>0</td>\n",
       "      <td>0</td>\n",
       "      <td>0</td>\n",
       "      <td>0</td>\n",
       "      <td>...</td>\n",
       "      <td>0</td>\n",
       "      <td>0</td>\n",
       "      <td>0</td>\n",
       "      <td>1</td>\n",
       "      <td>0</td>\n",
       "      <td>0</td>\n",
       "      <td>0</td>\n",
       "      <td>0</td>\n",
       "      <td>0</td>\n",
       "      <td>0</td>\n",
       "    </tr>\n",
       "    <tr>\n",
       "      <th>3274</th>\n",
       "      <td>1</td>\n",
       "      <td>0</td>\n",
       "      <td>0</td>\n",
       "      <td>0</td>\n",
       "      <td>1</td>\n",
       "      <td>0</td>\n",
       "      <td>0</td>\n",
       "      <td>1</td>\n",
       "      <td>0</td>\n",
       "      <td>0</td>\n",
       "      <td>...</td>\n",
       "      <td>0</td>\n",
       "      <td>0</td>\n",
       "      <td>0</td>\n",
       "      <td>0</td>\n",
       "      <td>1</td>\n",
       "      <td>0</td>\n",
       "      <td>0</td>\n",
       "      <td>0</td>\n",
       "      <td>0</td>\n",
       "      <td>0</td>\n",
       "    </tr>\n",
       "    <tr>\n",
       "      <th>5153</th>\n",
       "      <td>1</td>\n",
       "      <td>0</td>\n",
       "      <td>0</td>\n",
       "      <td>0</td>\n",
       "      <td>0</td>\n",
       "      <td>0</td>\n",
       "      <td>0</td>\n",
       "      <td>0</td>\n",
       "      <td>0</td>\n",
       "      <td>0</td>\n",
       "      <td>...</td>\n",
       "      <td>0</td>\n",
       "      <td>0</td>\n",
       "      <td>1</td>\n",
       "      <td>0</td>\n",
       "      <td>0</td>\n",
       "      <td>0</td>\n",
       "      <td>0</td>\n",
       "      <td>0</td>\n",
       "      <td>0</td>\n",
       "      <td>0</td>\n",
       "    </tr>\n",
       "    <tr>\n",
       "      <th>...</th>\n",
       "      <td>...</td>\n",
       "      <td>...</td>\n",
       "      <td>...</td>\n",
       "      <td>...</td>\n",
       "      <td>...</td>\n",
       "      <td>...</td>\n",
       "      <td>...</td>\n",
       "      <td>...</td>\n",
       "      <td>...</td>\n",
       "      <td>...</td>\n",
       "      <td>...</td>\n",
       "      <td>...</td>\n",
       "      <td>...</td>\n",
       "      <td>...</td>\n",
       "      <td>...</td>\n",
       "      <td>...</td>\n",
       "      <td>...</td>\n",
       "      <td>...</td>\n",
       "      <td>...</td>\n",
       "      <td>...</td>\n",
       "      <td>...</td>\n",
       "    </tr>\n",
       "    <tr>\n",
       "      <th>5876</th>\n",
       "      <td>0</td>\n",
       "      <td>0</td>\n",
       "      <td>1</td>\n",
       "      <td>0</td>\n",
       "      <td>0</td>\n",
       "      <td>0</td>\n",
       "      <td>0</td>\n",
       "      <td>0</td>\n",
       "      <td>0</td>\n",
       "      <td>1</td>\n",
       "      <td>...</td>\n",
       "      <td>0</td>\n",
       "      <td>0</td>\n",
       "      <td>0</td>\n",
       "      <td>0</td>\n",
       "      <td>0</td>\n",
       "      <td>0</td>\n",
       "      <td>1</td>\n",
       "      <td>0</td>\n",
       "      <td>0</td>\n",
       "      <td>0</td>\n",
       "    </tr>\n",
       "    <tr>\n",
       "      <th>866</th>\n",
       "      <td>0</td>\n",
       "      <td>0</td>\n",
       "      <td>0</td>\n",
       "      <td>0</td>\n",
       "      <td>0</td>\n",
       "      <td>1</td>\n",
       "      <td>0</td>\n",
       "      <td>0</td>\n",
       "      <td>0</td>\n",
       "      <td>0</td>\n",
       "      <td>...</td>\n",
       "      <td>0</td>\n",
       "      <td>0</td>\n",
       "      <td>0</td>\n",
       "      <td>0</td>\n",
       "      <td>0</td>\n",
       "      <td>0</td>\n",
       "      <td>1</td>\n",
       "      <td>0</td>\n",
       "      <td>0</td>\n",
       "      <td>0</td>\n",
       "    </tr>\n",
       "    <tr>\n",
       "      <th>7696</th>\n",
       "      <td>0</td>\n",
       "      <td>0</td>\n",
       "      <td>1</td>\n",
       "      <td>0</td>\n",
       "      <td>0</td>\n",
       "      <td>0</td>\n",
       "      <td>0</td>\n",
       "      <td>1</td>\n",
       "      <td>0</td>\n",
       "      <td>0</td>\n",
       "      <td>...</td>\n",
       "      <td>0</td>\n",
       "      <td>0</td>\n",
       "      <td>0</td>\n",
       "      <td>0</td>\n",
       "      <td>1</td>\n",
       "      <td>0</td>\n",
       "      <td>0</td>\n",
       "      <td>0</td>\n",
       "      <td>0</td>\n",
       "      <td>0</td>\n",
       "    </tr>\n",
       "    <tr>\n",
       "      <th>74</th>\n",
       "      <td>0</td>\n",
       "      <td>0</td>\n",
       "      <td>1</td>\n",
       "      <td>0</td>\n",
       "      <td>1</td>\n",
       "      <td>0</td>\n",
       "      <td>0</td>\n",
       "      <td>0</td>\n",
       "      <td>0</td>\n",
       "      <td>0</td>\n",
       "      <td>...</td>\n",
       "      <td>0</td>\n",
       "      <td>0</td>\n",
       "      <td>0</td>\n",
       "      <td>0</td>\n",
       "      <td>0</td>\n",
       "      <td>0</td>\n",
       "      <td>1</td>\n",
       "      <td>0</td>\n",
       "      <td>0</td>\n",
       "      <td>0</td>\n",
       "    </tr>\n",
       "    <tr>\n",
       "      <th>338</th>\n",
       "      <td>0</td>\n",
       "      <td>0</td>\n",
       "      <td>0</td>\n",
       "      <td>0</td>\n",
       "      <td>0</td>\n",
       "      <td>0</td>\n",
       "      <td>0</td>\n",
       "      <td>0</td>\n",
       "      <td>0</td>\n",
       "      <td>0</td>\n",
       "      <td>...</td>\n",
       "      <td>0</td>\n",
       "      <td>0</td>\n",
       "      <td>0</td>\n",
       "      <td>0</td>\n",
       "      <td>0</td>\n",
       "      <td>1</td>\n",
       "      <td>0</td>\n",
       "      <td>0</td>\n",
       "      <td>0</td>\n",
       "      <td>0</td>\n",
       "    </tr>\n",
       "  </tbody>\n",
       "</table>\n",
       "<p>7307 rows × 49 columns</p>\n",
       "</div>"
      ],
      "text/plain": [
       "      State_California  State_Nevada  State_Oregon  State_Washington  \\\n",
       "1212                 1             0             0                 0   \n",
       "5656                 1             0             0                 0   \n",
       "7437                 0             0             1                 0   \n",
       "3274                 1             0             0                 0   \n",
       "5153                 1             0             0                 0   \n",
       "...                ...           ...           ...               ...   \n",
       "5876                 0             0             1                 0   \n",
       "866                  0             0             0                 0   \n",
       "7696                 0             0             1                 0   \n",
       "74                   0             0             1                 0   \n",
       "338                  0             0             0                 0   \n",
       "\n",
       "      Response_Yes  Coverage_Extended  Coverage_Premium  Education_College  \\\n",
       "1212             0                  0                 0                  1   \n",
       "5656             0                  0                 0                  0   \n",
       "7437             0                  1                 0                  0   \n",
       "3274             1                  0                 0                  1   \n",
       "5153             0                  0                 0                  0   \n",
       "...            ...                ...               ...                ...   \n",
       "5876             0                  0                 0                  0   \n",
       "866              0                  1                 0                  0   \n",
       "7696             0                  0                 0                  1   \n",
       "74               1                  0                 0                  0   \n",
       "338              0                  0                 0                  0   \n",
       "\n",
       "      Education_Doctor  Education_High School or Below  ...  \\\n",
       "1212                 0                               0  ...   \n",
       "5656                 0                               0  ...   \n",
       "7437                 0                               0  ...   \n",
       "3274                 0                               0  ...   \n",
       "5153                 0                               0  ...   \n",
       "...                ...                             ...  ...   \n",
       "5876                 0                               1  ...   \n",
       "866                  0                               0  ...   \n",
       "7696                 0                               0  ...   \n",
       "74                   0                               0  ...   \n",
       "338                  0                               0  ...   \n",
       "\n",
       "      Combined_Policy_Special L2 Special Auto  \\\n",
       "1212                                        0   \n",
       "5656                                        0   \n",
       "7437                                        0   \n",
       "3274                                        0   \n",
       "5153                                        0   \n",
       "...                                       ...   \n",
       "5876                                        0   \n",
       "866                                         0   \n",
       "7696                                        0   \n",
       "74                                          0   \n",
       "338                                         0   \n",
       "\n",
       "      Combined_Policy_Special L3 Special Auto  \\\n",
       "1212                                        0   \n",
       "5656                                        0   \n",
       "7437                                        0   \n",
       "3274                                        0   \n",
       "5153                                        0   \n",
       "...                                       ...   \n",
       "5876                                        0   \n",
       "866                                         0   \n",
       "7696                                        0   \n",
       "74                                          0   \n",
       "338                                         0   \n",
       "\n",
       "      policy_ptype_Corporate L2-Corporate Auto  \\\n",
       "1212                                         0   \n",
       "5656                                         0   \n",
       "7437                                         0   \n",
       "3274                                         0   \n",
       "5153                                         1   \n",
       "...                                        ...   \n",
       "5876                                         0   \n",
       "866                                          0   \n",
       "7696                                         0   \n",
       "74                                           0   \n",
       "338                                          0   \n",
       "\n",
       "      policy_ptype_Corporate L3-Corporate Auto  \\\n",
       "1212                                         0   \n",
       "5656                                         1   \n",
       "7437                                         1   \n",
       "3274                                         0   \n",
       "5153                                         0   \n",
       "...                                        ...   \n",
       "5876                                         0   \n",
       "866                                          0   \n",
       "7696                                         0   \n",
       "74                                           0   \n",
       "338                                          0   \n",
       "\n",
       "      policy_ptype_Personal L1-Personal Auto  \\\n",
       "1212                                       0   \n",
       "5656                                       0   \n",
       "7437                                       0   \n",
       "3274                                       1   \n",
       "5153                                       0   \n",
       "...                                      ...   \n",
       "5876                                       0   \n",
       "866                                        0   \n",
       "7696                                       1   \n",
       "74                                         0   \n",
       "338                                        0   \n",
       "\n",
       "      policy_ptype_Personal L2-Personal Auto  \\\n",
       "1212                                       0   \n",
       "5656                                       0   \n",
       "7437                                       0   \n",
       "3274                                       0   \n",
       "5153                                       0   \n",
       "...                                      ...   \n",
       "5876                                       0   \n",
       "866                                        0   \n",
       "7696                                       0   \n",
       "74                                         0   \n",
       "338                                        1   \n",
       "\n",
       "      policy_ptype_Personal L3-Personal Auto  \\\n",
       "1212                                       1   \n",
       "5656                                       0   \n",
       "7437                                       0   \n",
       "3274                                       0   \n",
       "5153                                       0   \n",
       "...                                      ...   \n",
       "5876                                       1   \n",
       "866                                        1   \n",
       "7696                                       0   \n",
       "74                                         1   \n",
       "338                                        0   \n",
       "\n",
       "      policy_ptype_Special L1-Special Auto  \\\n",
       "1212                                     0   \n",
       "5656                                     0   \n",
       "7437                                     0   \n",
       "3274                                     0   \n",
       "5153                                     0   \n",
       "...                                    ...   \n",
       "5876                                     0   \n",
       "866                                      0   \n",
       "7696                                     0   \n",
       "74                                       0   \n",
       "338                                      0   \n",
       "\n",
       "      policy_ptype_Special L2-Special Auto  \\\n",
       "1212                                     0   \n",
       "5656                                     0   \n",
       "7437                                     0   \n",
       "3274                                     0   \n",
       "5153                                     0   \n",
       "...                                    ...   \n",
       "5876                                     0   \n",
       "866                                      0   \n",
       "7696                                     0   \n",
       "74                                       0   \n",
       "338                                      0   \n",
       "\n",
       "      policy_ptype_Special L3-Special Auto  \n",
       "1212                                     0  \n",
       "5656                                     0  \n",
       "7437                                     0  \n",
       "3274                                     0  \n",
       "5153                                     0  \n",
       "...                                    ...  \n",
       "5876                                     0  \n",
       "866                                      0  \n",
       "7696                                     0  \n",
       "74                                       0  \n",
       "338                                      0  \n",
       "\n",
       "[7307 rows x 49 columns]"
      ]
     },
     "metadata": {},
     "output_type": "display_data"
    },
    {
     "data": {
      "text/html": [
       "<div>\n",
       "<style scoped>\n",
       "    .dataframe tbody tr th:only-of-type {\n",
       "        vertical-align: middle;\n",
       "    }\n",
       "\n",
       "    .dataframe tbody tr th {\n",
       "        vertical-align: top;\n",
       "    }\n",
       "\n",
       "    .dataframe thead th {\n",
       "        text-align: right;\n",
       "    }\n",
       "</style>\n",
       "<table border=\"1\" class=\"dataframe\">\n",
       "  <thead>\n",
       "    <tr style=\"text-align: right;\">\n",
       "      <th></th>\n",
       "      <th>State_California</th>\n",
       "      <th>State_Nevada</th>\n",
       "      <th>State_Oregon</th>\n",
       "      <th>State_Washington</th>\n",
       "      <th>Response_Yes</th>\n",
       "      <th>Coverage_Extended</th>\n",
       "      <th>Coverage_Premium</th>\n",
       "      <th>Education_College</th>\n",
       "      <th>Education_Doctor</th>\n",
       "      <th>Education_High School or Below</th>\n",
       "      <th>...</th>\n",
       "      <th>Combined_Policy_Special L2 Special Auto</th>\n",
       "      <th>Combined_Policy_Special L3 Special Auto</th>\n",
       "      <th>policy_ptype_Corporate L2-Corporate Auto</th>\n",
       "      <th>policy_ptype_Corporate L3-Corporate Auto</th>\n",
       "      <th>policy_ptype_Personal L1-Personal Auto</th>\n",
       "      <th>policy_ptype_Personal L2-Personal Auto</th>\n",
       "      <th>policy_ptype_Personal L3-Personal Auto</th>\n",
       "      <th>policy_ptype_Special L1-Special Auto</th>\n",
       "      <th>policy_ptype_Special L2-Special Auto</th>\n",
       "      <th>policy_ptype_Special L3-Special Auto</th>\n",
       "    </tr>\n",
       "  </thead>\n",
       "  <tbody>\n",
       "    <tr>\n",
       "      <th>791</th>\n",
       "      <td>1</td>\n",
       "      <td>0</td>\n",
       "      <td>0</td>\n",
       "      <td>0</td>\n",
       "      <td>0</td>\n",
       "      <td>0</td>\n",
       "      <td>0</td>\n",
       "      <td>1</td>\n",
       "      <td>0</td>\n",
       "      <td>0</td>\n",
       "      <td>...</td>\n",
       "      <td>0</td>\n",
       "      <td>0</td>\n",
       "      <td>0</td>\n",
       "      <td>0</td>\n",
       "      <td>0</td>\n",
       "      <td>0</td>\n",
       "      <td>1</td>\n",
       "      <td>0</td>\n",
       "      <td>0</td>\n",
       "      <td>0</td>\n",
       "    </tr>\n",
       "    <tr>\n",
       "      <th>1822</th>\n",
       "      <td>0</td>\n",
       "      <td>0</td>\n",
       "      <td>1</td>\n",
       "      <td>0</td>\n",
       "      <td>0</td>\n",
       "      <td>0</td>\n",
       "      <td>0</td>\n",
       "      <td>0</td>\n",
       "      <td>0</td>\n",
       "      <td>1</td>\n",
       "      <td>...</td>\n",
       "      <td>0</td>\n",
       "      <td>0</td>\n",
       "      <td>0</td>\n",
       "      <td>0</td>\n",
       "      <td>1</td>\n",
       "      <td>0</td>\n",
       "      <td>0</td>\n",
       "      <td>0</td>\n",
       "      <td>0</td>\n",
       "      <td>0</td>\n",
       "    </tr>\n",
       "    <tr>\n",
       "      <th>4908</th>\n",
       "      <td>0</td>\n",
       "      <td>0</td>\n",
       "      <td>1</td>\n",
       "      <td>0</td>\n",
       "      <td>0</td>\n",
       "      <td>0</td>\n",
       "      <td>0</td>\n",
       "      <td>0</td>\n",
       "      <td>0</td>\n",
       "      <td>0</td>\n",
       "      <td>...</td>\n",
       "      <td>0</td>\n",
       "      <td>0</td>\n",
       "      <td>0</td>\n",
       "      <td>0</td>\n",
       "      <td>1</td>\n",
       "      <td>0</td>\n",
       "      <td>0</td>\n",
       "      <td>0</td>\n",
       "      <td>0</td>\n",
       "      <td>0</td>\n",
       "    </tr>\n",
       "    <tr>\n",
       "      <th>9100</th>\n",
       "      <td>1</td>\n",
       "      <td>0</td>\n",
       "      <td>0</td>\n",
       "      <td>0</td>\n",
       "      <td>0</td>\n",
       "      <td>1</td>\n",
       "      <td>0</td>\n",
       "      <td>0</td>\n",
       "      <td>0</td>\n",
       "      <td>0</td>\n",
       "      <td>...</td>\n",
       "      <td>0</td>\n",
       "      <td>0</td>\n",
       "      <td>0</td>\n",
       "      <td>0</td>\n",
       "      <td>0</td>\n",
       "      <td>0</td>\n",
       "      <td>1</td>\n",
       "      <td>0</td>\n",
       "      <td>0</td>\n",
       "      <td>0</td>\n",
       "    </tr>\n",
       "    <tr>\n",
       "      <th>6403</th>\n",
       "      <td>0</td>\n",
       "      <td>0</td>\n",
       "      <td>1</td>\n",
       "      <td>0</td>\n",
       "      <td>0</td>\n",
       "      <td>1</td>\n",
       "      <td>0</td>\n",
       "      <td>0</td>\n",
       "      <td>0</td>\n",
       "      <td>0</td>\n",
       "      <td>...</td>\n",
       "      <td>0</td>\n",
       "      <td>0</td>\n",
       "      <td>0</td>\n",
       "      <td>0</td>\n",
       "      <td>1</td>\n",
       "      <td>0</td>\n",
       "      <td>0</td>\n",
       "      <td>0</td>\n",
       "      <td>0</td>\n",
       "      <td>0</td>\n",
       "    </tr>\n",
       "    <tr>\n",
       "      <th>...</th>\n",
       "      <td>...</td>\n",
       "      <td>...</td>\n",
       "      <td>...</td>\n",
       "      <td>...</td>\n",
       "      <td>...</td>\n",
       "      <td>...</td>\n",
       "      <td>...</td>\n",
       "      <td>...</td>\n",
       "      <td>...</td>\n",
       "      <td>...</td>\n",
       "      <td>...</td>\n",
       "      <td>...</td>\n",
       "      <td>...</td>\n",
       "      <td>...</td>\n",
       "      <td>...</td>\n",
       "      <td>...</td>\n",
       "      <td>...</td>\n",
       "      <td>...</td>\n",
       "      <td>...</td>\n",
       "      <td>...</td>\n",
       "      <td>...</td>\n",
       "    </tr>\n",
       "    <tr>\n",
       "      <th>5673</th>\n",
       "      <td>1</td>\n",
       "      <td>0</td>\n",
       "      <td>0</td>\n",
       "      <td>0</td>\n",
       "      <td>0</td>\n",
       "      <td>1</td>\n",
       "      <td>0</td>\n",
       "      <td>0</td>\n",
       "      <td>0</td>\n",
       "      <td>0</td>\n",
       "      <td>...</td>\n",
       "      <td>0</td>\n",
       "      <td>0</td>\n",
       "      <td>1</td>\n",
       "      <td>0</td>\n",
       "      <td>0</td>\n",
       "      <td>0</td>\n",
       "      <td>0</td>\n",
       "      <td>0</td>\n",
       "      <td>0</td>\n",
       "      <td>0</td>\n",
       "    </tr>\n",
       "    <tr>\n",
       "      <th>102</th>\n",
       "      <td>0</td>\n",
       "      <td>0</td>\n",
       "      <td>1</td>\n",
       "      <td>0</td>\n",
       "      <td>0</td>\n",
       "      <td>0</td>\n",
       "      <td>0</td>\n",
       "      <td>0</td>\n",
       "      <td>0</td>\n",
       "      <td>0</td>\n",
       "      <td>...</td>\n",
       "      <td>0</td>\n",
       "      <td>0</td>\n",
       "      <td>0</td>\n",
       "      <td>1</td>\n",
       "      <td>0</td>\n",
       "      <td>0</td>\n",
       "      <td>0</td>\n",
       "      <td>0</td>\n",
       "      <td>0</td>\n",
       "      <td>0</td>\n",
       "    </tr>\n",
       "    <tr>\n",
       "      <th>2915</th>\n",
       "      <td>1</td>\n",
       "      <td>0</td>\n",
       "      <td>0</td>\n",
       "      <td>0</td>\n",
       "      <td>0</td>\n",
       "      <td>0</td>\n",
       "      <td>0</td>\n",
       "      <td>0</td>\n",
       "      <td>0</td>\n",
       "      <td>0</td>\n",
       "      <td>...</td>\n",
       "      <td>0</td>\n",
       "      <td>0</td>\n",
       "      <td>0</td>\n",
       "      <td>0</td>\n",
       "      <td>0</td>\n",
       "      <td>0</td>\n",
       "      <td>1</td>\n",
       "      <td>0</td>\n",
       "      <td>0</td>\n",
       "      <td>0</td>\n",
       "    </tr>\n",
       "    <tr>\n",
       "      <th>7461</th>\n",
       "      <td>1</td>\n",
       "      <td>0</td>\n",
       "      <td>0</td>\n",
       "      <td>0</td>\n",
       "      <td>0</td>\n",
       "      <td>0</td>\n",
       "      <td>0</td>\n",
       "      <td>1</td>\n",
       "      <td>0</td>\n",
       "      <td>0</td>\n",
       "      <td>...</td>\n",
       "      <td>0</td>\n",
       "      <td>0</td>\n",
       "      <td>0</td>\n",
       "      <td>0</td>\n",
       "      <td>0</td>\n",
       "      <td>1</td>\n",
       "      <td>0</td>\n",
       "      <td>0</td>\n",
       "      <td>0</td>\n",
       "      <td>0</td>\n",
       "    </tr>\n",
       "    <tr>\n",
       "      <th>7147</th>\n",
       "      <td>1</td>\n",
       "      <td>0</td>\n",
       "      <td>0</td>\n",
       "      <td>0</td>\n",
       "      <td>0</td>\n",
       "      <td>0</td>\n",
       "      <td>0</td>\n",
       "      <td>0</td>\n",
       "      <td>1</td>\n",
       "      <td>0</td>\n",
       "      <td>...</td>\n",
       "      <td>0</td>\n",
       "      <td>0</td>\n",
       "      <td>0</td>\n",
       "      <td>0</td>\n",
       "      <td>0</td>\n",
       "      <td>0</td>\n",
       "      <td>1</td>\n",
       "      <td>0</td>\n",
       "      <td>0</td>\n",
       "      <td>0</td>\n",
       "    </tr>\n",
       "  </tbody>\n",
       "</table>\n",
       "<p>1827 rows × 49 columns</p>\n",
       "</div>"
      ],
      "text/plain": [
       "      State_California  State_Nevada  State_Oregon  State_Washington  \\\n",
       "791                  1             0             0                 0   \n",
       "1822                 0             0             1                 0   \n",
       "4908                 0             0             1                 0   \n",
       "9100                 1             0             0                 0   \n",
       "6403                 0             0             1                 0   \n",
       "...                ...           ...           ...               ...   \n",
       "5673                 1             0             0                 0   \n",
       "102                  0             0             1                 0   \n",
       "2915                 1             0             0                 0   \n",
       "7461                 1             0             0                 0   \n",
       "7147                 1             0             0                 0   \n",
       "\n",
       "      Response_Yes  Coverage_Extended  Coverage_Premium  Education_College  \\\n",
       "791              0                  0                 0                  1   \n",
       "1822             0                  0                 0                  0   \n",
       "4908             0                  0                 0                  0   \n",
       "9100             0                  1                 0                  0   \n",
       "6403             0                  1                 0                  0   \n",
       "...            ...                ...               ...                ...   \n",
       "5673             0                  1                 0                  0   \n",
       "102              0                  0                 0                  0   \n",
       "2915             0                  0                 0                  0   \n",
       "7461             0                  0                 0                  1   \n",
       "7147             0                  0                 0                  0   \n",
       "\n",
       "      Education_Doctor  Education_High School or Below  ...  \\\n",
       "791                  0                               0  ...   \n",
       "1822                 0                               1  ...   \n",
       "4908                 0                               0  ...   \n",
       "9100                 0                               0  ...   \n",
       "6403                 0                               0  ...   \n",
       "...                ...                             ...  ...   \n",
       "5673                 0                               0  ...   \n",
       "102                  0                               0  ...   \n",
       "2915                 0                               0  ...   \n",
       "7461                 0                               0  ...   \n",
       "7147                 1                               0  ...   \n",
       "\n",
       "      Combined_Policy_Special L2 Special Auto  \\\n",
       "791                                         0   \n",
       "1822                                        0   \n",
       "4908                                        0   \n",
       "9100                                        0   \n",
       "6403                                        0   \n",
       "...                                       ...   \n",
       "5673                                        0   \n",
       "102                                         0   \n",
       "2915                                        0   \n",
       "7461                                        0   \n",
       "7147                                        0   \n",
       "\n",
       "      Combined_Policy_Special L3 Special Auto  \\\n",
       "791                                         0   \n",
       "1822                                        0   \n",
       "4908                                        0   \n",
       "9100                                        0   \n",
       "6403                                        0   \n",
       "...                                       ...   \n",
       "5673                                        0   \n",
       "102                                         0   \n",
       "2915                                        0   \n",
       "7461                                        0   \n",
       "7147                                        0   \n",
       "\n",
       "      policy_ptype_Corporate L2-Corporate Auto  \\\n",
       "791                                          0   \n",
       "1822                                         0   \n",
       "4908                                         0   \n",
       "9100                                         0   \n",
       "6403                                         0   \n",
       "...                                        ...   \n",
       "5673                                         1   \n",
       "102                                          0   \n",
       "2915                                         0   \n",
       "7461                                         0   \n",
       "7147                                         0   \n",
       "\n",
       "      policy_ptype_Corporate L3-Corporate Auto  \\\n",
       "791                                          0   \n",
       "1822                                         0   \n",
       "4908                                         0   \n",
       "9100                                         0   \n",
       "6403                                         0   \n",
       "...                                        ...   \n",
       "5673                                         0   \n",
       "102                                          1   \n",
       "2915                                         0   \n",
       "7461                                         0   \n",
       "7147                                         0   \n",
       "\n",
       "      policy_ptype_Personal L1-Personal Auto  \\\n",
       "791                                        0   \n",
       "1822                                       1   \n",
       "4908                                       1   \n",
       "9100                                       0   \n",
       "6403                                       1   \n",
       "...                                      ...   \n",
       "5673                                       0   \n",
       "102                                        0   \n",
       "2915                                       0   \n",
       "7461                                       0   \n",
       "7147                                       0   \n",
       "\n",
       "      policy_ptype_Personal L2-Personal Auto  \\\n",
       "791                                        0   \n",
       "1822                                       0   \n",
       "4908                                       0   \n",
       "9100                                       0   \n",
       "6403                                       0   \n",
       "...                                      ...   \n",
       "5673                                       0   \n",
       "102                                        0   \n",
       "2915                                       0   \n",
       "7461                                       1   \n",
       "7147                                       0   \n",
       "\n",
       "      policy_ptype_Personal L3-Personal Auto  \\\n",
       "791                                        1   \n",
       "1822                                       0   \n",
       "4908                                       0   \n",
       "9100                                       1   \n",
       "6403                                       0   \n",
       "...                                      ...   \n",
       "5673                                       0   \n",
       "102                                        0   \n",
       "2915                                       1   \n",
       "7461                                       0   \n",
       "7147                                       1   \n",
       "\n",
       "      policy_ptype_Special L1-Special Auto  \\\n",
       "791                                      0   \n",
       "1822                                     0   \n",
       "4908                                     0   \n",
       "9100                                     0   \n",
       "6403                                     0   \n",
       "...                                    ...   \n",
       "5673                                     0   \n",
       "102                                      0   \n",
       "2915                                     0   \n",
       "7461                                     0   \n",
       "7147                                     0   \n",
       "\n",
       "      policy_ptype_Special L2-Special Auto  \\\n",
       "791                                      0   \n",
       "1822                                     0   \n",
       "4908                                     0   \n",
       "9100                                     0   \n",
       "6403                                     0   \n",
       "...                                    ...   \n",
       "5673                                     0   \n",
       "102                                      0   \n",
       "2915                                     0   \n",
       "7461                                     0   \n",
       "7147                                     0   \n",
       "\n",
       "      policy_ptype_Special L3-Special Auto  \n",
       "791                                      0  \n",
       "1822                                     0  \n",
       "4908                                     0  \n",
       "9100                                     0  \n",
       "6403                                     0  \n",
       "...                                    ...  \n",
       "5673                                     0  \n",
       "102                                      0  \n",
       "2915                                     0  \n",
       "7461                                     0  \n",
       "7147                                     0  \n",
       "\n",
       "[1827 rows x 49 columns]"
      ]
     },
     "metadata": {},
     "output_type": "display_data"
    }
   ],
   "source": [
    "display(X_train_encoded)\n",
    "display(X_test_encoded)"
   ]
  },
  {
   "cell_type": "code",
   "execution_count": 95,
   "id": "9d6b291f",
   "metadata": {},
   "outputs": [
    {
     "data": {
      "text/plain": [
       "array([[0.00682081, 0.8378792 , 0.00423729, ..., 0.66666667, 0.        ,\n",
       "        0.03921569],\n",
       "       [0.08344404, 0.97786579, 0.04661017, ..., 0.23333333, 0.        ,\n",
       "        0.        ],\n",
       "       [0.04330545, 0.67426811, 0.02966102, ..., 0.86666667, 1.        ,\n",
       "        0.1372549 ],\n",
       "       ...,\n",
       "       [0.06078523, 0.        , 0.55084746, ..., 0.43333333, 0.        ,\n",
       "        0.01960784],\n",
       "       [0.02248466, 0.        , 0.03389831, ..., 0.86666667, 1.        ,\n",
       "        0.1372549 ],\n",
       "       [0.00732999, 0.45863714, 0.00423729, ..., 0.36666667, 1.        ,\n",
       "        0.09803922]])"
      ]
     },
     "execution_count": 95,
     "metadata": {},
     "output_type": "execute_result"
    }
   ],
   "source": [
    "X_train_encoded = pd.get_dummies(X_train_cat, drop_first=True)\n",
    "X_test_encoded = pd.get_dummies(X_test_cat, drop_first=True)\n",
    "\n",
    "X_train_num_scale\n",
    "X_test_norm"
   ]
  },
  {
   "cell_type": "code",
   "execution_count": 96,
   "id": "321a8e68",
   "metadata": {},
   "outputs": [],
   "source": [
    "X_train = pd.concat([X_train_num_scale,X_train_encoded], axis = 1)\n",
    "X_test = pd.concat([X_test_num_scale,X_test_encoded], axis = 1)"
   ]
  },
  {
   "cell_type": "code",
   "execution_count": 97,
   "id": "826b5867",
   "metadata": {},
   "outputs": [
    {
     "data": {
      "text/html": [
       "<div>\n",
       "<style scoped>\n",
       "    .dataframe tbody tr th:only-of-type {\n",
       "        vertical-align: middle;\n",
       "    }\n",
       "\n",
       "    .dataframe tbody tr th {\n",
       "        vertical-align: top;\n",
       "    }\n",
       "\n",
       "    .dataframe thead th {\n",
       "        text-align: right;\n",
       "    }\n",
       "</style>\n",
       "<table border=\"1\" class=\"dataframe\">\n",
       "  <thead>\n",
       "    <tr style=\"text-align: right;\">\n",
       "      <th></th>\n",
       "      <th>Customer_Lifetime_Value</th>\n",
       "      <th>Income</th>\n",
       "      <th>Monthly_Premium_Auto</th>\n",
       "      <th>Months_Since_Last_Claim</th>\n",
       "      <th>Months_Since_Policy_Inception</th>\n",
       "      <th>Number_of_Open_Complaints</th>\n",
       "      <th>Number_of_Policies</th>\n",
       "      <th>Day</th>\n",
       "      <th>Month</th>\n",
       "      <th>Week</th>\n",
       "      <th>...</th>\n",
       "      <th>Combined_Policy_Special L2 Special Auto</th>\n",
       "      <th>Combined_Policy_Special L3 Special Auto</th>\n",
       "      <th>policy_ptype_Corporate L2-Corporate Auto</th>\n",
       "      <th>policy_ptype_Corporate L3-Corporate Auto</th>\n",
       "      <th>policy_ptype_Personal L1-Personal Auto</th>\n",
       "      <th>policy_ptype_Personal L2-Personal Auto</th>\n",
       "      <th>policy_ptype_Personal L3-Personal Auto</th>\n",
       "      <th>policy_ptype_Special L1-Special Auto</th>\n",
       "      <th>policy_ptype_Special L2-Special Auto</th>\n",
       "      <th>policy_ptype_Special L3-Special Auto</th>\n",
       "    </tr>\n",
       "  </thead>\n",
       "  <tbody>\n",
       "    <tr>\n",
       "      <th>791</th>\n",
       "      <td>0.006821</td>\n",
       "      <td>0.837879</td>\n",
       "      <td>0.004237</td>\n",
       "      <td>0.371429</td>\n",
       "      <td>0.767677</td>\n",
       "      <td>0.0</td>\n",
       "      <td>0.000</td>\n",
       "      <td>0.666667</td>\n",
       "      <td>0.0</td>\n",
       "      <td>0.039216</td>\n",
       "      <td>...</td>\n",
       "      <td>0</td>\n",
       "      <td>0</td>\n",
       "      <td>0</td>\n",
       "      <td>0</td>\n",
       "      <td>0</td>\n",
       "      <td>0</td>\n",
       "      <td>1</td>\n",
       "      <td>0</td>\n",
       "      <td>0</td>\n",
       "      <td>0</td>\n",
       "    </tr>\n",
       "    <tr>\n",
       "      <th>1822</th>\n",
       "      <td>0.083444</td>\n",
       "      <td>0.977866</td>\n",
       "      <td>0.046610</td>\n",
       "      <td>0.628571</td>\n",
       "      <td>0.141414</td>\n",
       "      <td>0.0</td>\n",
       "      <td>0.125</td>\n",
       "      <td>0.233333</td>\n",
       "      <td>0.0</td>\n",
       "      <td>0.000000</td>\n",
       "      <td>...</td>\n",
       "      <td>0</td>\n",
       "      <td>0</td>\n",
       "      <td>0</td>\n",
       "      <td>0</td>\n",
       "      <td>1</td>\n",
       "      <td>0</td>\n",
       "      <td>0</td>\n",
       "      <td>0</td>\n",
       "      <td>0</td>\n",
       "      <td>0</td>\n",
       "    </tr>\n",
       "    <tr>\n",
       "      <th>4908</th>\n",
       "      <td>0.043305</td>\n",
       "      <td>0.674268</td>\n",
       "      <td>0.029661</td>\n",
       "      <td>0.200000</td>\n",
       "      <td>0.373737</td>\n",
       "      <td>0.0</td>\n",
       "      <td>0.875</td>\n",
       "      <td>0.866667</td>\n",
       "      <td>1.0</td>\n",
       "      <td>0.137255</td>\n",
       "      <td>...</td>\n",
       "      <td>0</td>\n",
       "      <td>0</td>\n",
       "      <td>0</td>\n",
       "      <td>0</td>\n",
       "      <td>1</td>\n",
       "      <td>0</td>\n",
       "      <td>0</td>\n",
       "      <td>0</td>\n",
       "      <td>0</td>\n",
       "      <td>0</td>\n",
       "    </tr>\n",
       "    <tr>\n",
       "      <th>9100</th>\n",
       "      <td>0.023898</td>\n",
       "      <td>0.439954</td>\n",
       "      <td>0.148305</td>\n",
       "      <td>0.828571</td>\n",
       "      <td>0.171717</td>\n",
       "      <td>0.0</td>\n",
       "      <td>0.000</td>\n",
       "      <td>0.500000</td>\n",
       "      <td>0.0</td>\n",
       "      <td>0.019608</td>\n",
       "      <td>...</td>\n",
       "      <td>0</td>\n",
       "      <td>0</td>\n",
       "      <td>0</td>\n",
       "      <td>0</td>\n",
       "      <td>0</td>\n",
       "      <td>0</td>\n",
       "      <td>1</td>\n",
       "      <td>0</td>\n",
       "      <td>0</td>\n",
       "      <td>0</td>\n",
       "    </tr>\n",
       "    <tr>\n",
       "      <th>6403</th>\n",
       "      <td>0.033779</td>\n",
       "      <td>0.000000</td>\n",
       "      <td>0.254237</td>\n",
       "      <td>0.314286</td>\n",
       "      <td>0.101010</td>\n",
       "      <td>0.0</td>\n",
       "      <td>0.000</td>\n",
       "      <td>0.000000</td>\n",
       "      <td>0.0</td>\n",
       "      <td>1.000000</td>\n",
       "      <td>...</td>\n",
       "      <td>0</td>\n",
       "      <td>0</td>\n",
       "      <td>0</td>\n",
       "      <td>0</td>\n",
       "      <td>1</td>\n",
       "      <td>0</td>\n",
       "      <td>0</td>\n",
       "      <td>0</td>\n",
       "      <td>0</td>\n",
       "      <td>0</td>\n",
       "    </tr>\n",
       "  </tbody>\n",
       "</table>\n",
       "<p>5 rows × 59 columns</p>\n",
       "</div>"
      ],
      "text/plain": [
       "      Customer_Lifetime_Value    Income  Monthly_Premium_Auto  \\\n",
       "791                  0.006821  0.837879              0.004237   \n",
       "1822                 0.083444  0.977866              0.046610   \n",
       "4908                 0.043305  0.674268              0.029661   \n",
       "9100                 0.023898  0.439954              0.148305   \n",
       "6403                 0.033779  0.000000              0.254237   \n",
       "\n",
       "      Months_Since_Last_Claim  Months_Since_Policy_Inception  \\\n",
       "791                  0.371429                       0.767677   \n",
       "1822                 0.628571                       0.141414   \n",
       "4908                 0.200000                       0.373737   \n",
       "9100                 0.828571                       0.171717   \n",
       "6403                 0.314286                       0.101010   \n",
       "\n",
       "      Number_of_Open_Complaints  Number_of_Policies       Day  Month  \\\n",
       "791                         0.0               0.000  0.666667    0.0   \n",
       "1822                        0.0               0.125  0.233333    0.0   \n",
       "4908                        0.0               0.875  0.866667    1.0   \n",
       "9100                        0.0               0.000  0.500000    0.0   \n",
       "6403                        0.0               0.000  0.000000    0.0   \n",
       "\n",
       "          Week  ...  Combined_Policy_Special L2 Special Auto  \\\n",
       "791   0.039216  ...                                        0   \n",
       "1822  0.000000  ...                                        0   \n",
       "4908  0.137255  ...                                        0   \n",
       "9100  0.019608  ...                                        0   \n",
       "6403  1.000000  ...                                        0   \n",
       "\n",
       "      Combined_Policy_Special L3 Special Auto  \\\n",
       "791                                         0   \n",
       "1822                                        0   \n",
       "4908                                        0   \n",
       "9100                                        0   \n",
       "6403                                        0   \n",
       "\n",
       "      policy_ptype_Corporate L2-Corporate Auto  \\\n",
       "791                                          0   \n",
       "1822                                         0   \n",
       "4908                                         0   \n",
       "9100                                         0   \n",
       "6403                                         0   \n",
       "\n",
       "      policy_ptype_Corporate L3-Corporate Auto  \\\n",
       "791                                          0   \n",
       "1822                                         0   \n",
       "4908                                         0   \n",
       "9100                                         0   \n",
       "6403                                         0   \n",
       "\n",
       "      policy_ptype_Personal L1-Personal Auto  \\\n",
       "791                                        0   \n",
       "1822                                       1   \n",
       "4908                                       1   \n",
       "9100                                       0   \n",
       "6403                                       1   \n",
       "\n",
       "      policy_ptype_Personal L2-Personal Auto  \\\n",
       "791                                        0   \n",
       "1822                                       0   \n",
       "4908                                       0   \n",
       "9100                                       0   \n",
       "6403                                       0   \n",
       "\n",
       "      policy_ptype_Personal L3-Personal Auto  \\\n",
       "791                                        1   \n",
       "1822                                       0   \n",
       "4908                                       0   \n",
       "9100                                       1   \n",
       "6403                                       0   \n",
       "\n",
       "      policy_ptype_Special L1-Special Auto  \\\n",
       "791                                      0   \n",
       "1822                                     0   \n",
       "4908                                     0   \n",
       "9100                                     0   \n",
       "6403                                     0   \n",
       "\n",
       "      policy_ptype_Special L2-Special Auto  \\\n",
       "791                                      0   \n",
       "1822                                     0   \n",
       "4908                                     0   \n",
       "9100                                     0   \n",
       "6403                                     0   \n",
       "\n",
       "      policy_ptype_Special L3-Special Auto  \n",
       "791                                      0  \n",
       "1822                                     0  \n",
       "4908                                     0  \n",
       "9100                                     0  \n",
       "6403                                     0  \n",
       "\n",
       "[5 rows x 59 columns]"
      ]
     },
     "execution_count": 97,
     "metadata": {},
     "output_type": "execute_result"
    }
   ],
   "source": [
    "X_test.head()"
   ]
  },
  {
   "cell_type": "code",
   "execution_count": 98,
   "id": "c60458f7",
   "metadata": {},
   "outputs": [
    {
     "data": {
      "text/html": [
       "<div>\n",
       "<style scoped>\n",
       "    .dataframe tbody tr th:only-of-type {\n",
       "        vertical-align: middle;\n",
       "    }\n",
       "\n",
       "    .dataframe tbody tr th {\n",
       "        vertical-align: top;\n",
       "    }\n",
       "\n",
       "    .dataframe thead th {\n",
       "        text-align: right;\n",
       "    }\n",
       "</style>\n",
       "<table border=\"1\" class=\"dataframe\">\n",
       "  <thead>\n",
       "    <tr style=\"text-align: right;\">\n",
       "      <th></th>\n",
       "      <th>Customer_Lifetime_Value</th>\n",
       "      <th>Income</th>\n",
       "      <th>Monthly_Premium_Auto</th>\n",
       "      <th>Months_Since_Last_Claim</th>\n",
       "      <th>Months_Since_Policy_Inception</th>\n",
       "      <th>Number_of_Open_Complaints</th>\n",
       "      <th>Number_of_Policies</th>\n",
       "      <th>Day</th>\n",
       "      <th>Month</th>\n",
       "      <th>Week</th>\n",
       "      <th>...</th>\n",
       "      <th>Combined_Policy_Special L2 Special Auto</th>\n",
       "      <th>Combined_Policy_Special L3 Special Auto</th>\n",
       "      <th>policy_ptype_Corporate L2-Corporate Auto</th>\n",
       "      <th>policy_ptype_Corporate L3-Corporate Auto</th>\n",
       "      <th>policy_ptype_Personal L1-Personal Auto</th>\n",
       "      <th>policy_ptype_Personal L2-Personal Auto</th>\n",
       "      <th>policy_ptype_Personal L3-Personal Auto</th>\n",
       "      <th>policy_ptype_Special L1-Special Auto</th>\n",
       "      <th>policy_ptype_Special L2-Special Auto</th>\n",
       "      <th>policy_ptype_Special L3-Special Auto</th>\n",
       "    </tr>\n",
       "  </thead>\n",
       "  <tbody>\n",
       "    <tr>\n",
       "      <th>1212</th>\n",
       "      <td>0.042134</td>\n",
       "      <td>0.810794</td>\n",
       "      <td>0.038136</td>\n",
       "      <td>0.571429</td>\n",
       "      <td>0.040404</td>\n",
       "      <td>0.8</td>\n",
       "      <td>0.250</td>\n",
       "      <td>0.966667</td>\n",
       "      <td>0.0</td>\n",
       "      <td>0.058824</td>\n",
       "      <td>...</td>\n",
       "      <td>0</td>\n",
       "      <td>0</td>\n",
       "      <td>0</td>\n",
       "      <td>0</td>\n",
       "      <td>0</td>\n",
       "      <td>0</td>\n",
       "      <td>1</td>\n",
       "      <td>0</td>\n",
       "      <td>0</td>\n",
       "      <td>0</td>\n",
       "    </tr>\n",
       "    <tr>\n",
       "      <th>5656</th>\n",
       "      <td>0.008654</td>\n",
       "      <td>0.419660</td>\n",
       "      <td>0.021186</td>\n",
       "      <td>0.428571</td>\n",
       "      <td>0.494949</td>\n",
       "      <td>0.2</td>\n",
       "      <td>0.000</td>\n",
       "      <td>0.766667</td>\n",
       "      <td>0.0</td>\n",
       "      <td>0.058824</td>\n",
       "      <td>...</td>\n",
       "      <td>0</td>\n",
       "      <td>0</td>\n",
       "      <td>0</td>\n",
       "      <td>1</td>\n",
       "      <td>0</td>\n",
       "      <td>0</td>\n",
       "      <td>0</td>\n",
       "      <td>0</td>\n",
       "      <td>0</td>\n",
       "      <td>0</td>\n",
       "    </tr>\n",
       "    <tr>\n",
       "      <th>7437</th>\n",
       "      <td>0.036431</td>\n",
       "      <td>0.374131</td>\n",
       "      <td>0.258475</td>\n",
       "      <td>0.657143</td>\n",
       "      <td>0.383838</td>\n",
       "      <td>0.2</td>\n",
       "      <td>0.000</td>\n",
       "      <td>0.033333</td>\n",
       "      <td>0.0</td>\n",
       "      <td>1.000000</td>\n",
       "      <td>...</td>\n",
       "      <td>0</td>\n",
       "      <td>0</td>\n",
       "      <td>0</td>\n",
       "      <td>1</td>\n",
       "      <td>0</td>\n",
       "      <td>0</td>\n",
       "      <td>0</td>\n",
       "      <td>0</td>\n",
       "      <td>0</td>\n",
       "      <td>0</td>\n",
       "    </tr>\n",
       "    <tr>\n",
       "      <th>3274</th>\n",
       "      <td>0.074966</td>\n",
       "      <td>0.000000</td>\n",
       "      <td>0.194915</td>\n",
       "      <td>0.085714</td>\n",
       "      <td>0.656566</td>\n",
       "      <td>0.0</td>\n",
       "      <td>0.250</td>\n",
       "      <td>0.333333</td>\n",
       "      <td>0.0</td>\n",
       "      <td>0.019608</td>\n",
       "      <td>...</td>\n",
       "      <td>0</td>\n",
       "      <td>0</td>\n",
       "      <td>0</td>\n",
       "      <td>0</td>\n",
       "      <td>1</td>\n",
       "      <td>0</td>\n",
       "      <td>0</td>\n",
       "      <td>0</td>\n",
       "      <td>0</td>\n",
       "      <td>0</td>\n",
       "    </tr>\n",
       "    <tr>\n",
       "      <th>5153</th>\n",
       "      <td>0.140581</td>\n",
       "      <td>0.802923</td>\n",
       "      <td>0.216102</td>\n",
       "      <td>0.171429</td>\n",
       "      <td>0.404040</td>\n",
       "      <td>0.2</td>\n",
       "      <td>0.125</td>\n",
       "      <td>0.900000</td>\n",
       "      <td>0.0</td>\n",
       "      <td>0.058824</td>\n",
       "      <td>...</td>\n",
       "      <td>0</td>\n",
       "      <td>0</td>\n",
       "      <td>1</td>\n",
       "      <td>0</td>\n",
       "      <td>0</td>\n",
       "      <td>0</td>\n",
       "      <td>0</td>\n",
       "      <td>0</td>\n",
       "      <td>0</td>\n",
       "      <td>0</td>\n",
       "    </tr>\n",
       "  </tbody>\n",
       "</table>\n",
       "<p>5 rows × 59 columns</p>\n",
       "</div>"
      ],
      "text/plain": [
       "      Customer_Lifetime_Value    Income  Monthly_Premium_Auto  \\\n",
       "1212                 0.042134  0.810794              0.038136   \n",
       "5656                 0.008654  0.419660              0.021186   \n",
       "7437                 0.036431  0.374131              0.258475   \n",
       "3274                 0.074966  0.000000              0.194915   \n",
       "5153                 0.140581  0.802923              0.216102   \n",
       "\n",
       "      Months_Since_Last_Claim  Months_Since_Policy_Inception  \\\n",
       "1212                 0.571429                       0.040404   \n",
       "5656                 0.428571                       0.494949   \n",
       "7437                 0.657143                       0.383838   \n",
       "3274                 0.085714                       0.656566   \n",
       "5153                 0.171429                       0.404040   \n",
       "\n",
       "      Number_of_Open_Complaints  Number_of_Policies       Day  Month  \\\n",
       "1212                        0.8               0.250  0.966667    0.0   \n",
       "5656                        0.2               0.000  0.766667    0.0   \n",
       "7437                        0.2               0.000  0.033333    0.0   \n",
       "3274                        0.0               0.250  0.333333    0.0   \n",
       "5153                        0.2               0.125  0.900000    0.0   \n",
       "\n",
       "          Week  ...  Combined_Policy_Special L2 Special Auto  \\\n",
       "1212  0.058824  ...                                        0   \n",
       "5656  0.058824  ...                                        0   \n",
       "7437  1.000000  ...                                        0   \n",
       "3274  0.019608  ...                                        0   \n",
       "5153  0.058824  ...                                        0   \n",
       "\n",
       "      Combined_Policy_Special L3 Special Auto  \\\n",
       "1212                                        0   \n",
       "5656                                        0   \n",
       "7437                                        0   \n",
       "3274                                        0   \n",
       "5153                                        0   \n",
       "\n",
       "      policy_ptype_Corporate L2-Corporate Auto  \\\n",
       "1212                                         0   \n",
       "5656                                         0   \n",
       "7437                                         0   \n",
       "3274                                         0   \n",
       "5153                                         1   \n",
       "\n",
       "      policy_ptype_Corporate L3-Corporate Auto  \\\n",
       "1212                                         0   \n",
       "5656                                         1   \n",
       "7437                                         1   \n",
       "3274                                         0   \n",
       "5153                                         0   \n",
       "\n",
       "      policy_ptype_Personal L1-Personal Auto  \\\n",
       "1212                                       0   \n",
       "5656                                       0   \n",
       "7437                                       0   \n",
       "3274                                       1   \n",
       "5153                                       0   \n",
       "\n",
       "      policy_ptype_Personal L2-Personal Auto  \\\n",
       "1212                                       0   \n",
       "5656                                       0   \n",
       "7437                                       0   \n",
       "3274                                       0   \n",
       "5153                                       0   \n",
       "\n",
       "      policy_ptype_Personal L3-Personal Auto  \\\n",
       "1212                                       1   \n",
       "5656                                       0   \n",
       "7437                                       0   \n",
       "3274                                       0   \n",
       "5153                                       0   \n",
       "\n",
       "      policy_ptype_Special L1-Special Auto  \\\n",
       "1212                                     0   \n",
       "5656                                     0   \n",
       "7437                                     0   \n",
       "3274                                     0   \n",
       "5153                                     0   \n",
       "\n",
       "      policy_ptype_Special L2-Special Auto  \\\n",
       "1212                                     0   \n",
       "5656                                     0   \n",
       "7437                                     0   \n",
       "3274                                     0   \n",
       "5153                                     0   \n",
       "\n",
       "      policy_ptype_Special L3-Special Auto  \n",
       "1212                                     0  \n",
       "5656                                     0  \n",
       "7437                                     0  \n",
       "3274                                     0  \n",
       "5153                                     0  \n",
       "\n",
       "[5 rows x 59 columns]"
      ]
     },
     "execution_count": 98,
     "metadata": {},
     "output_type": "execute_result"
    }
   ],
   "source": [
    "X_train.head()"
   ]
  },
  {
   "cell_type": "markdown",
   "id": "e6c92c70",
   "metadata": {},
   "source": [
    "## Lab | 6 | "
   ]
  },
  {
   "cell_type": "code",
   "execution_count": 99,
   "id": "0ddb10be",
   "metadata": {},
   "outputs": [
    {
     "data": {
      "text/plain": [
       "LinearRegression()"
      ]
     },
     "execution_count": 99,
     "metadata": {},
     "output_type": "execute_result"
    }
   ],
   "source": [
    "# 6. Try a simple linear regression with all the data to see whether we are getting good results.\n",
    "from sklearn.linear_model import LinearRegression\n",
    "lm = LinearRegression()\n",
    "lm.fit(X_train, y_train)"
   ]
  },
  {
   "cell_type": "code",
   "execution_count": 100,
   "id": "6f2f7b19",
   "metadata": {},
   "outputs": [
    {
     "data": {
      "text/plain": [
       "0.7704155014413098"
      ]
     },
     "execution_count": 100,
     "metadata": {},
     "output_type": "execute_result"
    }
   ],
   "source": [
    "from sklearn.metrics import r2_score\n",
    "predictions = lm.predict(X_train)\n",
    "r2_score(y_train, predictions)"
   ]
  },
  {
   "cell_type": "code",
   "execution_count": 101,
   "id": "eb849eb1",
   "metadata": {},
   "outputs": [
    {
     "data": {
      "text/plain": [
       "0.7789215253950666"
      ]
     },
     "execution_count": 101,
     "metadata": {},
     "output_type": "execute_result"
    }
   ],
   "source": [
    "predictions_test = lm.predict(X_test)\n",
    "r2_score(y_test, predictions_test)"
   ]
  },
  {
   "cell_type": "code",
   "execution_count": 103,
   "id": "a53a4fc6",
   "metadata": {},
   "outputs": [
    {
     "data": {
      "text/plain": [
       "19123.397061935535"
      ]
     },
     "execution_count": 103,
     "metadata": {},
     "output_type": "execute_result"
    }
   ],
   "source": [
    "from sklearn.metrics import mean_squared_error\n",
    "mse=mean_squared_error(y_test,predictions_test)\n",
    "mse # MSE(Mean Squared Error) Lower (close to 0) the MSE, the closer is forecast to actual"
   ]
  },
  {
   "cell_type": "code",
   "execution_count": 104,
   "id": "f2f75ca9",
   "metadata": {},
   "outputs": [
    {
     "data": {
      "text/plain": [
       "138.28737130315093"
      ]
     },
     "execution_count": 104,
     "metadata": {},
     "output_type": "execute_result"
    }
   ],
   "source": [
    "rmse = np.sqrt(mean_squared_error(y_test,predictions_test))\n",
    "rmse # RMSE(Root Mean Squared Error) values between 0.2 and 0.5"
   ]
  },
  {
   "cell_type": "code",
   "execution_count": 105,
   "id": "bef959a0",
   "metadata": {},
   "outputs": [
    {
     "data": {
      "text/plain": [
       "array([-24.59879938,  14.88557562,  -6.08512751, 522.83870062,\n",
       "       702.25666937])"
      ]
     },
     "execution_count": 105,
     "metadata": {},
     "output_type": "execute_result"
    }
   ],
   "source": [
    "predictions_test = lm.predict(X_test) # start here for the new data \n",
    "predictions_test[:5]"
   ]
  },
  {
   "cell_type": "code",
   "execution_count": 106,
   "id": "90252a3c",
   "metadata": {},
   "outputs": [
    {
     "data": {
      "text/plain": [
       "791       42.248087\n",
       "1822     151.843731\n",
       "4908     148.778455\n",
       "9100     460.800000\n",
       "6403    1080.559002\n",
       "Name: Total_Claim_Amount, dtype: float64"
      ]
     },
     "execution_count": 106,
     "metadata": {},
     "output_type": "execute_result"
    }
   ],
   "source": [
    "y_test[:5]"
   ]
  },
  {
   "cell_type": "markdown",
   "id": "e2b1f5dc",
   "metadata": {},
   "source": [
    "## Lab | 7 | "
   ]
  },
  {
   "cell_type": "code",
   "execution_count": 107,
   "id": "81a7b164",
   "metadata": {},
   "outputs": [],
   "source": [
    "# 7. Great! Now define a function that takes a list of models and train (and tests) \n",
    "# them so we can try a lot of them without repeating code.\n",
    "\n",
    "from sklearn.ensemble import RandomForestRegressor\n",
    "from sklearn.neighbors import KNeighborsRegressor\n",
    "from sklearn.neural_network import MLPRegressor\n",
    "from sklearn.metrics import mean_squared_error\n",
    "from sklearn.metrics import mean_absolute_error\n",
    "\n",
    "def train_and_evaluate_models(models, X, y, test_size=0.2, random_state=None):\n",
    "    results = {}\n",
    "\n",
    "    X_train, X_test, y_train, y_test = train_test_split(X, y, test_size=test_size, random_state=random_state)\n",
    "\n",
    "    for model in models:\n",
    "        model_name = model.__class__.__name__\n",
    "        model.fit(X_train, y_train)\n",
    "        y_pred = model.predict(X_test)\n",
    "        r2 = r2_score(y_test, y_pred)\n",
    "        mse = mean_squared_error(y_test, y_pred)\n",
    "        rmse = mean_squared_error(y_test, y_pred, squared=False)\n",
    "        mae = mean_absolute_error(y_test, y_pred)\n",
    "\n",
    "        results[model_name] = {\n",
    "            'R-squared': r2,\n",
    "            'Mean Squared Error': mse,\n",
    "            'Root Mean Squared Error': rmse,\n",
    "            'Mean Absolute Error': mae\n",
    "        }\n",
    "\n",
    "    return results"
   ]
  },
  {
   "cell_type": "code",
   "execution_count": 108,
   "id": "71f7aab2",
   "metadata": {},
   "outputs": [
    {
     "name": "stdout",
     "output_type": "stream",
     "text": [
      "LinearRegression:\n",
      "R-squared: 0.4942554408520886\n",
      "Mean Squared Error: 41232.41390481868\n",
      "Root Mean Squared Error: 203.05766152701227\n",
      "Mean Absolute Error: 146.2081037935081\n",
      "\n",
      "RandomForestRegressor:\n",
      "R-squared: 0.5515379661561985\n",
      "Mean Squared Error: 36562.276084983925\n",
      "Root Mean Squared Error: 191.2126462475323\n",
      "Mean Absolute Error: 130.70211316792066\n",
      "\n",
      "KNeighborsRegressor:\n",
      "R-squared: 0.4057637347737165\n",
      "Mean Squared Error: 48446.978226211366\n",
      "Root Mean Squared Error: 220.10674280042255\n",
      "Mean Absolute Error: 158.31023421682627\n",
      "\n",
      "MLPRegressor:\n",
      "R-squared: 0.5402018457568526\n",
      "Mean Squared Error: 37486.48891125378\n",
      "Root Mean Squared Error: 193.61427868639694\n",
      "Mean Absolute Error: 143.60983881972632\n",
      "\n"
     ]
    },
    {
     "name": "stderr",
     "output_type": "stream",
     "text": [
      "C:\\Users\\Santiago\\anaconda3\\lib\\site-packages\\sklearn\\neural_network\\_multilayer_perceptron.py:692: ConvergenceWarning: Stochastic Optimizer: Maximum iterations (1000) reached and the optimization hasn't converged yet.\n",
      "  warnings.warn(\n"
     ]
    }
   ],
   "source": [
    "models_to_evaluate = [\n",
    "    LinearRegression(),\n",
    "    RandomForestRegressor(),\n",
    "    KNeighborsRegressor(n_neighbors=5),\n",
    "    MLPRegressor(max_iter=1000, random_state=42)]\n",
    "\n",
    "results = train_and_evaluate_models(models_to_evaluate, X_train_num_scale, y_train, test_size=0.2, random_state=42)\n",
    "\n",
    "# Print the results for each model\n",
    "for model_name, metrics in results.items():\n",
    "    print(f\"{model_name}:\")\n",
    "    for metric, value in metrics.items():\n",
    "        print(f\"{metric}: {value}\")\n",
    "    print()"
   ]
  },
  {
   "cell_type": "markdown",
   "id": "dfb994c4",
   "metadata": {},
   "source": [
    "## Lab | 8 | LinearRegressor and KNeighborsRegressor."
   ]
  },
  {
   "cell_type": "code",
   "execution_count": 109,
   "id": "1ebdfdfa",
   "metadata": {},
   "outputs": [
    {
     "name": "stdout",
     "output_type": "stream",
     "text": [
      "Linear Regressor Mean Squared Error: 40300.75906112915\n",
      "Linear Regressor Mean Absolute Error: 145.58181968999654\n",
      "KNeighbors Regressor Mean Squared Error: 61499.29384078018\n",
      "KNeighbors Regressor Mean Absolute Error: 169.95232634209086\n"
     ]
    }
   ],
   "source": [
    "# 8. Use the function to check LinearRegressor and KNeighborsRegressor.\n",
    "from sklearn.model_selection import train_test_split\n",
    "from sklearn.linear_model import LinearRegression\n",
    "from sklearn.neighbors import KNeighborsRegressor\n",
    "from sklearn.metrics import mean_squared_error, mean_absolute_error\n",
    "\n",
    "# Drop non-numeric columns\n",
    "X = X.select_dtypes(include=['number'])\n",
    "\n",
    "# Split the data into training and testing sets\n",
    "X_train, X_test, y_train, y_test = train_test_split(X, y, test_size=0.2, random_state=42)\n",
    "\n",
    "# Create and fit the LinearRegressor\n",
    "linear_regressor = LinearRegression()\n",
    "linear_regressor.fit(X_train, y_train)\n",
    "\n",
    "# Make predictions with LinearRegressor\n",
    "linear_predictions = linear_regressor.predict(X_test)\n",
    "\n",
    "# Evaluate using mean squared error and mean absolute error\n",
    "linear_mse = mean_squared_error(y_test, linear_predictions)\n",
    "linear_mae = mean_absolute_error(y_test, linear_predictions)\n",
    "\n",
    "print(f'Linear Regressor Mean Squared Error: {linear_mse}')\n",
    "print(f'Linear Regressor Mean Absolute Error: {linear_mae}')\n",
    "\n",
    "# Create and fit the KNeighborsRegressor\n",
    "knn_regressor = KNeighborsRegressor()\n",
    "knn_regressor.fit(X_train, y_train)\n",
    "\n",
    "# Make predictions with KNeighborsRegressor\n",
    "knn_predictions = knn_regressor.predict(X_test)\n",
    "\n",
    "# Evaluate using mean squared error and mean absolute error\n",
    "knn_mse = mean_squared_error(y_test, knn_predictions)\n",
    "knn_mae = mean_absolute_error(y_test, knn_predictions)\n",
    "\n",
    "print(f'KNeighbors Regressor Mean Squared Error: {knn_mse}')\n",
    "print(f'KNeighbors Regressor Mean Absolute Error: {knn_mae}')\n"
   ]
  },
  {
   "cell_type": "markdown",
   "id": "04076fe9",
   "metadata": {},
   "source": [
    "## Lab | 9 | MLPRegressor"
   ]
  },
  {
   "cell_type": "code",
   "execution_count": 110,
   "id": "1e18fc2e",
   "metadata": {},
   "outputs": [
    {
     "name": "stdout",
     "output_type": "stream",
     "text": [
      "MLP Regressor Mean Squared Error: 38845.40719780787\n",
      "MLP Regressor Mean Absolute Error: 147.76766461259953\n"
     ]
    }
   ],
   "source": [
    "# 9. You can check also the `MLPRegressor` for this task!\n",
    "from sklearn.model_selection import train_test_split\n",
    "from sklearn.linear_model import LinearRegression\n",
    "from sklearn.neighbors import KNeighborsRegressor\n",
    "from sklearn.neural_network import MLPRegressor\n",
    "from sklearn.metrics import mean_squared_error, mean_absolute_error\n",
    "\n",
    "# Drop non-numeric columns\n",
    "X = X.select_dtypes(include=['number'])\n",
    "\n",
    "# Split the data into training and testing sets\n",
    "X_train, X_test, y_train, y_test = train_test_split(X, y, test_size=0.2, random_state=42)\n",
    "\n",
    "# Create and fit the MLPRegressor\n",
    "mlp_regressor = MLPRegressor()\n",
    "mlp_regressor.fit(X_train, y_train)\n",
    "\n",
    "# Make predictions with MLPRegressor\n",
    "mlp_predictions = mlp_regressor.predict(X_test)\n",
    "\n",
    "# Evaluate using mean squared error and mean absolute error\n",
    "mlp_mse = mean_squared_error(y_test, mlp_predictions)\n",
    "mlp_mae = mean_absolute_error(y_test, mlp_predictions)\n",
    "\n",
    "print(f'MLP Regressor Mean Squared Error: {mlp_mse}')\n",
    "print(f'MLP Regressor Mean Absolute Error: {mlp_mae}')"
   ]
  },
  {
   "cell_type": "markdown",
   "id": "5b60e2bc",
   "metadata": {},
   "source": [
    "## Lab | 10 |"
   ]
  },
  {
   "cell_type": "code",
   "execution_count": null,
   "id": "d2b18a4f",
   "metadata": {},
   "outputs": [],
   "source": [
    "# 10. Check and discuss the results. "
   ]
  }
 ],
 "metadata": {
  "kernelspec": {
   "display_name": "Python 3 (ipykernel)",
   "language": "python",
   "name": "python3"
  },
  "language_info": {
   "codemirror_mode": {
    "name": "ipython",
    "version": 3
   },
   "file_extension": ".py",
   "mimetype": "text/x-python",
   "name": "python",
   "nbconvert_exporter": "python",
   "pygments_lexer": "ipython3",
   "version": "3.9.12"
  }
 },
 "nbformat": 4,
 "nbformat_minor": 5
}
